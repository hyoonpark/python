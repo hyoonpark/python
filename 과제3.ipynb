{
 "cells": [
  {
   "cell_type": "code",
   "execution_count": 24,
   "id": "73ab3d19",
   "metadata": {},
   "outputs": [
    {
     "name": "stdout",
     "output_type": "stream",
     "text": [
      "['apple', ' banana', ' apple', ' orange', ' orange']\n"
     ]
    }
   ],
   "source": [
    "fruit = 'apple, rottenBanana, apple, RoTTenorange, Orange'\n",
    "n = []\n",
    "fruit = fruit.replace('rottenBanana', 'banana')\n",
    "fruit = fruit.replace('RoTTenorange', 'orange')\n",
    "fruit = fruit.replace('Orange', 'orange')\n",
    "fruit = fruit.split(',') # ,를 기준으로 분할\n",
    "n = fruit\n",
    "\n",
    "print(n)"
   ]
  },
  {
   "cell_type": "code",
   "execution_count": 32,
   "id": "b56b77de",
   "metadata": {},
   "outputs": [
    {
     "name": "stdout",
     "output_type": "stream",
     "text": [
      "strong\n",
      "r o\n"
     ]
    }
   ],
   "source": [
    "char = input()\n",
    "char = list(char)\n",
    "if len(char) % 2:\n",
    "    print(char[len(char)//2])\n",
    "else:\n",
    "    print(char[len(char)//2 - 1],char[len(char)//2])"
   ]
  },
  {
   "cell_type": "code",
   "execution_count": 40,
   "id": "75a93593",
   "metadata": {},
   "outputs": [
    {
     "name": "stdout",
     "output_type": "stream",
     "text": [
      "16\n"
     ]
    }
   ],
   "source": [
    "infos = [{'name': 'kim', 'age': 12}, {'name': 'lee', 'age': 4}]\n",
    "sum_age = list(age_list['age'] for age_list in infos)\n",
    "\n",
    "print(sum(sum_age))"
   ]
  },
  {
   "cell_type": "code",
   "execution_count": 47,
   "id": "595109ce",
   "metadata": {},
   "outputs": [
    {
     "name": "stdout",
     "output_type": "stream",
     "text": [
      "{'A': 4, 'O': 4, 'B': 3, 'AB': 2}\n"
     ]
    }
   ],
   "source": [
    "blood_types = [ 'A','A','O', 'B', 'A', 'O', 'AB','O', 'A', 'B', 'O', 'B', 'AB']\n",
    "\n",
    "blood_dict = {}\n",
    "for types in blood_types:\n",
    "    if types in blood_dict:\n",
    "        blood_dict[types] += 1\n",
    "    else:\n",
    "        blood_dict[types] = 1\n",
    "print(blood_dict)"
   ]
  },
  {
   "cell_type": "code",
   "execution_count": null,
   "id": "822a51ae",
   "metadata": {},
   "outputs": [
    {
     "name": "stdout",
     "output_type": "stream",
     "text": [
      "소금물의 농도(%)와 소금물의 양(g)을 입력하십시오:25 100\n"
     ]
    }
   ],
   "source": [
    "percent, amount = map(int, input('소금물의 농도(%)와 소금물의 양(g)을 입력하십시오:').split())"
   ]
  },
  {
   "cell_type": "code",
   "execution_count": null,
   "id": "58a07090",
   "metadata": {},
   "outputs": [],
   "source": []
  },
  {
   "cell_type": "code",
   "execution_count": null,
   "id": "e5dd878d",
   "metadata": {},
   "outputs": [],
   "source": []
  }
 ],
 "metadata": {
  "kernelspec": {
   "display_name": "Python 3 (ipykernel)",
   "language": "python",
   "name": "python3"
  },
  "language_info": {
   "codemirror_mode": {
    "name": "ipython",
    "version": 3
   },
   "file_extension": ".py",
   "mimetype": "text/x-python",
   "name": "python",
   "nbconvert_exporter": "python",
   "pygments_lexer": "ipython3",
   "version": "3.9.13"
  }
 },
 "nbformat": 4,
 "nbformat_minor": 5
}
