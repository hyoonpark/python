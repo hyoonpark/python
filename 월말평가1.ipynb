{
 "cells": [
  {
   "cell_type": "code",
   "execution_count": 1,
   "id": "f0ba02bf",
   "metadata": {},
   "outputs": [
    {
     "name": "stdout",
     "output_type": "stream",
     "text": [
      "5\n",
      "None\n",
      "10 20\n",
      "None\n",
      "10 20 30 40\n",
      "None\n",
      "\n",
      "None\n"
     ]
    }
   ],
   "source": [
    "# 함수 내부에 불필요한 print문이 있는 경우 오답으로 처리가 됩니다.\n",
    "def calculator(*numbers):\n",
    "    print(*numbers)\n",
    "    # 여기에 코드를 작성하여 함수를 완성합니다.\n",
    "\n",
    "\n",
    "# 아래의 코드를 수정하거나 새롭게 추가하지 않습니다.\n",
    "########## 코드 변경 금지 ############\n",
    "if __name__ == '__main__':\n",
    "    print(calculator(5))                # 78.5\n",
    "    print(calculator(10, 20))           # 200\n",
    "    print(calculator(10, 20, 30, 40))   # (100, 25.0)\n",
    "    print(calculator())                 # 0"
   ]
  },
  {
   "cell_type": "code",
   "execution_count": 7,
   "id": "bbcdcc44",
   "metadata": {},
   "outputs": [
    {
     "name": "stdout",
     "output_type": "stream",
     "text": [
      "78.5\n",
      "200\n",
      "(100, 25.0)\n",
      "0\n"
     ]
    }
   ],
   "source": [
    "# 함수 내부에 불필요한 print문이 있는 경우 오답으로 처리가 됩니다.\n",
    "def calculator(*numbers):\n",
    "    length = 0\n",
    "    total = 0\n",
    "    for i in numbers:\n",
    "        length += 1\n",
    "        total += i\n",
    "    if length == 2:\n",
    "        arg_total = numbers[0] + numbers[1]\n",
    "        if arg_total % 2:\n",
    "            return numbers[0] * numbers[1] * 0.5\n",
    "        else:\n",
    "            return numbers[0] * numbers[1]\n",
    "    elif length == 1:\n",
    "        return numbers[0]* numbers[0] * 3.14\n",
    "    elif length > 2:\n",
    "        return total, total/length\n",
    "    else:\n",
    "        return 0\n",
    "\n",
    "# 아래의 코드를 수정하거나 새롭게 추가하지 않습니다.\n",
    "########## 코드 변경 금지 ############\n",
    "if __name__ == '__main__':\n",
    "    print(calculator(5))                # 78.5\n",
    "    print(calculator(10, 20))           # 200\n",
    "    print(calculator(10, 20, 30, 40))   # (100, 25.0)\n",
    "    print(calculator())                 # 0"
   ]
  },
  {
   "cell_type": "code",
   "execution_count": 9,
   "id": "3c2abb56",
   "metadata": {},
   "outputs": [
    {
     "name": "stdout",
     "output_type": "stream",
     "text": [
      "fuuqj\n",
      "ttbgz\n",
      "Zidryx\n"
     ]
    }
   ],
   "source": [
    "def caesar(word, n):\n",
    "    char = '' # 문자열 char를 선언해준다.\n",
    "    for chars in word: # 문자열을 반복문 안에 넣어준다.\n",
    "        if ord(chars) >= 65 and ord(chars) <= 90:\n",
    "            if ord(chars) + n <= 90: # 90보다 작은 경우,\n",
    "                char += chr(ord(chars) + n) # 그냥 n을 더해서 구해준다.\n",
    "            elif ord(chars) + n > 90: \n",
    "                char += chr(n-26+ord(chars))\n",
    "        elif ord(chars) >= 97 and ord(chars) <= 122:\n",
    "            if ord(chars) + n <= 122: # 90보다 크고 122보다 작은 경우,\n",
    "                char += chr(ord(chars) + n) # 그냥 n을 더해서 구해준다.\n",
    "            elif ord(chars) + n > 122: # 122보다 큰 경우,\n",
    "                char += chr(n-26+ord(chars)) # 되돌아가서 계산하는 식을 구해준다.\n",
    "        \n",
    "    return char\n",
    "\n",
    "    # 여기에 코드를 작성하여 함수를 완성합니다.\n",
    "\n",
    "\n",
    "# 아래의 코드를 수정하거나 새롭게 추가하지 않습니다.\n",
    "########## 코드 변경 금지 ############\n",
    "if __name__ == '__main__':\n",
    "    print(caesar('apple', 5))      # fuuqj\n",
    "    print(caesar('ssafy', 1))      # ttbgz\n",
    "    print(caesar('Python', 10))    # Zidryx"
   ]
  },
  {
   "cell_type": "code",
   "execution_count": 10,
   "id": "7e18c4ee",
   "metadata": {},
   "outputs": [
    {
     "name": "stdout",
     "output_type": "stream",
     "text": [
      "True\n",
      "False\n"
     ]
    }
   ],
   "source": [
    "# 함수 내부에 불필요한 print문이 있는 경우 오답으로 처리가 됩니다.\n",
    "def is_position_safe(N, M, position):\n",
    "    dx = [-1,1,0,0]\n",
    "    dy = [0,0,-1,1]\n",
    "    \n",
    "    x, y = position\n",
    "    \n",
    "    x += dx[M]\n",
    "    y += dy[M]\n",
    "    \n",
    "    if x > N -1 or y > N-1 or x < 0 or y < 0:\n",
    "        return False\n",
    "    return True\n",
    "    # 여기에 코드를 작성하여 함수를 완성합니다.\n",
    "\n",
    "\n",
    "# 아래의 코드를 수정하거나 새롭게 추가하지 않습니다.\n",
    "########## 코드 변경 금지 ############\n",
    "if __name__ == '__main__':\n",
    "    print(is_position_safe(3, 1, (0, 0)))  # True\n",
    "    print(is_position_safe(3, 0, (0, 0)))  # False"
   ]
  },
  {
   "cell_type": "code",
   "execution_count": null,
   "id": "e4f3aaf6",
   "metadata": {},
   "outputs": [],
   "source": []
  },
  {
   "cell_type": "code",
   "execution_count": null,
   "id": "d0961ac5",
   "metadata": {},
   "outputs": [],
   "source": []
  },
  {
   "cell_type": "code",
   "execution_count": null,
   "id": "2e56d21a",
   "metadata": {},
   "outputs": [],
   "source": []
  },
  {
   "cell_type": "code",
   "execution_count": null,
   "id": "1cda6b0f",
   "metadata": {},
   "outputs": [],
   "source": []
  }
 ],
 "metadata": {
  "kernelspec": {
   "display_name": "Python 3 (ipykernel)",
   "language": "python",
   "name": "python3"
  },
  "language_info": {
   "codemirror_mode": {
    "name": "ipython",
    "version": 3
   },
   "file_extension": ".py",
   "mimetype": "text/x-python",
   "name": "python",
   "nbconvert_exporter": "python",
   "pygments_lexer": "ipython3",
   "version": "3.9.13"
  }
 },
 "nbformat": 4,
 "nbformat_minor": 5
}
