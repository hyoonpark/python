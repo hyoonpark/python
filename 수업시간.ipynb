{
 "cells": [
  {
   "cell_type": "code",
   "execution_count": 1,
   "id": "f0a9fa70",
   "metadata": {},
   "outputs": [
    {
     "name": "stdout",
     "output_type": "stream",
     "text": [
      "164\n"
     ]
    }
   ],
   "source": [
    "print(164) #1월 16일 수업"
   ]
  },
  {
   "cell_type": "code",
   "execution_count": 2,
   "id": "e2b281b5",
   "metadata": {},
   "outputs": [
    {
     "name": "stdout",
     "output_type": "stream",
     "text": [
      "20 10\n"
     ]
    }
   ],
   "source": [
    "x = 10\n",
    "y = 20\n",
    "\n",
    "tmp = x\n",
    "x = y\n",
    "y = tmp\n",
    "\n",
    "print(x,y)"
   ]
  },
  {
   "cell_type": "code",
   "execution_count": 3,
   "id": "a9f5938a",
   "metadata": {},
   "outputs": [
    {
     "name": "stdout",
     "output_type": "stream",
     "text": [
      "<class 'int'>\n"
     ]
    }
   ],
   "source": [
    "age = 25\n",
    "\n",
    "print(type(age))"
   ]
  },
  {
   "cell_type": "code",
   "execution_count": 4,
   "id": "01e92b80",
   "metadata": {},
   "outputs": [
    {
     "name": "stdout",
     "output_type": "stream",
     "text": [
      "<class 'float'>\n"
     ]
    }
   ],
   "source": [
    "age = 25.1\n",
    "\n",
    "print(type(age))"
   ]
  },
  {
   "cell_type": "code",
   "execution_count": 6,
   "id": "2452f952",
   "metadata": {},
   "outputs": [
    {
     "name": "stdout",
     "output_type": "stream",
     "text": [
      "<class 'str'>\n",
      "<class 'str'>\n",
      "<class 'str'>\n"
     ]
    }
   ],
   "source": [
    "name = \"h\"\n",
    "name1 = \"he\"\n",
    "name2 = 'heo'\n",
    "#'' or \"\" 로 이루어진 1개 -> 문자 #2개 이상-> 문자열\n",
    "#파이썬에서는 문자를 문자열로 본다 다른 언어는 문자(char)\n",
    "\n",
    "print(type(name))\n",
    "print(type(name1))\n",
    "print(type(name2))"
   ]
  },
  {
   "cell_type": "code",
   "execution_count": 7,
   "id": "fe3b92af",
   "metadata": {},
   "outputs": [
    {
     "name": "stdout",
     "output_type": "stream",
     "text": [
      "<class 'bool'>\n",
      "<class 'bool'>\n"
     ]
    }
   ],
   "source": [
    "isTrue = True\n",
    "isFalse = False\n",
    "\n",
    "print(type(isTrue))\n",
    "print(type(isFalse))\n",
    "\n",
    "check\n",
    "\n",
    "checked\n",
    "#불리안 자료형일 때 변수 앞에 is 붙이기"
   ]
  },
  {
   "cell_type": "code",
   "execution_count": 8,
   "id": "e4a8819b",
   "metadata": {},
   "outputs": [
    {
     "name": "stdout",
     "output_type": "stream",
     "text": [
      "2471910206512\n"
     ]
    }
   ],
   "source": [
    "age = 25\n",
    "\n",
    "print(id(age))"
   ]
  },
  {
   "cell_type": "code",
   "execution_count": 9,
   "id": "7594b8c1",
   "metadata": {},
   "outputs": [
    {
     "name": "stdout",
     "output_type": "stream",
     "text": [
      "(3+0j)\n"
     ]
    }
   ],
   "source": [
    "print(complex(3)) #complex 복소수"
   ]
  },
  {
   "cell_type": "code",
   "execution_count": 11,
   "id": "8d9d7163",
   "metadata": {},
   "outputs": [
    {
     "name": "stdout",
     "output_type": "stream",
     "text": [
      "hello\n",
      "world\n",
      "hello\tworld\n"
     ]
    }
   ],
   "source": [
    "print('hello \\n world')\n",
    "print('hello \\t world')"
   ]
  },
  {
   "cell_type": "code",
   "execution_count": 12,
   "id": "f90e5058",
   "metadata": {},
   "outputs": [
    {
     "name": "stdout",
     "output_type": "stream",
     "text": [
      "제 나이는 25살 입니다\n"
     ]
    }
   ],
   "source": [
    "age = 25\n",
    "print(f'제 나이는 {age}살 입니다') #f-string 실무에 많이 사용"
   ]
  },
  {
   "cell_type": "code",
   "execution_count": 13,
   "id": "2ba4da24",
   "metadata": {},
   "outputs": [
    {
     "name": "stdout",
     "output_type": "stream",
     "text": [
      "None\n"
     ]
    }
   ],
   "source": [
    "test = None\n",
    "print(test)"
   ]
  },
  {
   "cell_type": "code",
   "execution_count": 14,
   "id": "b33d915d",
   "metadata": {},
   "outputs": [
    {
     "name": "stdout",
     "output_type": "stream",
     "text": [
      "hello wolrd\n",
      "None\n"
     ]
    }
   ],
   "source": [
    "def func(): #나중에 자세히 배움\n",
    "    print('hello wolrd')\n",
    "    \n",
    "print(func())"
   ]
  },
  {
   "cell_type": "code",
   "execution_count": 17,
   "id": "0f9af3b5",
   "metadata": {},
   "outputs": [
    {
     "name": "stdout",
     "output_type": "stream",
     "text": [
      "2471910205744\n",
      "2471910205744\n",
      "True\n",
      "False\n"
     ]
    }
   ],
   "source": [
    "a = 1\n",
    "b = 1\n",
    "print(id(a))\n",
    "print(id(b))\n",
    "\n",
    "c = [1]\n",
    "d = [1]\n",
    "\n",
    "print(a is b)\n",
    "print(c is d) #is 객체 아이덴티티, 메모리공간까지 같은지 확인"
   ]
  },
  {
   "cell_type": "code",
   "execution_count": 19,
   "id": "df1fb5f3",
   "metadata": {},
   "outputs": [
    {
     "name": "stdout",
     "output_type": "stream",
     "text": [
      "1\n",
      "[1, 2]\n",
      "[1]\n"
     ]
    }
   ],
   "source": [
    "a = 1\n",
    "b = a\n",
    "a = 2\n",
    "print(b) #1\n",
    "\n",
    "c = [1]\n",
    "#print(id(c))\n",
    "d = c\n",
    "c.append(2)\n",
    "#print(id(c))\n",
    "print(d) #[1, 2]\n",
    "\n",
    "e = [1]\n",
    "f = e\n",
    "f = [1,2]\n",
    "print(e) #[1]"
   ]
  },
  {
   "cell_type": "code",
   "execution_count": null,
   "id": "ed1802f2",
   "metadata": {},
   "outputs": [],
   "source": [
    "a = 1\n",
    "b = 2\n",
    "c = 3\n",
    "\n",
    "i = [1, 2, 3]"
   ]
  },
  {
   "cell_type": "code",
   "execution_count": 20,
   "id": "00cacbd7",
   "metadata": {},
   "outputs": [
    {
     "name": "stdout",
     "output_type": "stream",
     "text": [
      "3\n",
      "['apple', 'banana', 'cherry']\n",
      "cherry\n",
      "b\n"
     ]
    }
   ],
   "source": [
    "boxes = ['A', 'B', ['apple', 'banana', 'cherry']]\n",
    "\n",
    "print(len(boxes)) #3\n",
    "print(boxes[2]) #['apple', 'banana', 'cherry']\n",
    "print(boxes[2][-1]) #cherry\n",
    "print(boxes[-1][1][0]) #b"
   ]
  },
  {
   "cell_type": "code",
   "execution_count": 21,
   "id": "865424f8",
   "metadata": {},
   "outputs": [
    {
     "name": "stdout",
     "output_type": "stream",
     "text": [
      "[0, 1, 2, 3, 4, 5]\n"
     ]
    }
   ],
   "source": [
    "list_c = list(range(6))\n",
    "\n",
    "print(list_c)"
   ]
  },
  {
   "cell_type": "code",
   "execution_count": null,
   "id": "b0640c51",
   "metadata": {},
   "outputs": [],
   "source": [
    "list_c = [80, 90, 80]"
   ]
  },
  {
   "cell_type": "code",
   "execution_count": 3,
   "id": "17777aa1",
   "metadata": {},
   "outputs": [
    {
     "name": "stdout",
     "output_type": "stream",
     "text": [
      "[0, 0, 0]\n",
      "[0, 0, 0]\n",
      "[0, 0, 0]\n",
      "[0, 0, 0]\n",
      "[1, 0, 0]\n",
      "[1, 0, 0]\n"
     ]
    }
   ],
   "source": [
    "#1월 17일 수업\n",
    "num_list = [0, 0, 0]\n",
    "print(num_list)\n",
    "\n",
    "num_list2 = [0] * 3\n",
    "print(num_list2)\n",
    "\n",
    "num_list3 = []\n",
    "for _ in range(3):\n",
    "    num_list3.append(0)\n",
    "print(num_list3)\n",
    "\n",
    "num_list4 = [0 for _ in range(3)]\n",
    "print(num_list4)\n",
    "\n",
    "num_list2[0] = 1\n",
    "num_list4[0] = 1\n",
    "\n",
    "print(num_list2)\n",
    "print(num_list4)"
   ]
  },
  {
   "cell_type": "code",
   "execution_count": 1,
   "id": "d5cf38a9",
   "metadata": {},
   "outputs": [
    {
     "name": "stdout",
     "output_type": "stream",
     "text": [
      "[[0, 0, 0], [0, 0, 0], [0, 0, 0]]\n"
     ]
    }
   ],
   "source": [
    "a = []\n",
    "\n",
    "for i in range(3):\n",
    "    line = []\n",
    "    for j in range(3):\n",
    "        line.append(0)\n",
    "    a.append(line)\n",
    "    \n",
    "print(a)"
   ]
  },
  {
   "cell_type": "code",
   "execution_count": 10,
   "id": "7b6305b1",
   "metadata": {},
   "outputs": [
    {
     "name": "stdout",
     "output_type": "stream",
     "text": [
      "[[0, 0, 0], [0, 0, 0], [0, 0, 0]]\n",
      "[[0, 0, 0], [0, 0, 0], [0, 0, 0]]\n",
      "1914429964992\n",
      "1914429964992\n",
      "[[0, 0, 0], [0, 0, 0], [0, 0, 0]]\n",
      "[[0, 0, 0], [0, 0, 0], [0, 0, 0]]\n",
      "[[1, 0, 0], [1, 0, 0], [1, 0, 0]]\n",
      "[[1, 0, 0], [0, 0, 0], [0, 0, 0]]\n"
     ]
    }
   ],
   "source": [
    "num_list = [[0, 0, 0],[0, 0, 0],[0, 0, 0]]\n",
    "print(num_list)\n",
    "\n",
    "num_list2 = [[0] * 3] * 3\n",
    "print(num_list2)\n",
    "print(id(num_list2[0]))\n",
    "print(id(num_list2[1]))\n",
    "\n",
    "num_list3 = []\n",
    "for _ in range(3):\n",
    "    num_list3.append([0, 0, 0])\n",
    "print(num_list3)\n",
    "\n",
    "num_list4 = [[0 for _ in range(3)] for _ in range(3)]\n",
    "print(num_list4)\n",
    "\n",
    "num_list2[0][0] = 1\n",
    "num_list4[0][0] = 1\n",
    "\n",
    "print(num_list2)\n",
    "print(num_list4)\n"
   ]
  },
  {
   "cell_type": "code",
   "execution_count": 12,
   "id": "d1960f31",
   "metadata": {},
   "outputs": [
    {
     "name": "stdout",
     "output_type": "stream",
     "text": [
      "[1, 2, 3, 4]\n",
      "1914430036800\n",
      "1914430036800\n"
     ]
    }
   ],
   "source": [
    "a = [1, 2, 3]\n",
    "b = a\n",
    "b.append(4)\n",
    "print(a)\n",
    "print(id(a))\n",
    "print(id(b))"
   ]
  },
  {
   "cell_type": "code",
   "execution_count": null,
   "id": "ad3d547f",
   "metadata": {},
   "outputs": [],
   "source": [
    "#로켓펀치\n",
    "#원티드\n",
    "#"
   ]
  },
  {
   "cell_type": "code",
   "execution_count": 1,
   "id": "18b8c1b1",
   "metadata": {},
   "outputs": [
    {
     "name": "stdout",
     "output_type": "stream",
     "text": [
      "func1 시작\n",
      "func2 시작\n",
      "func2 끝\n"
     ]
    }
   ],
   "source": [
    "# 1월 18일\n",
    "def func1():\n",
    "    print('func1 시작')\n",
    "    \n",
    "    def func2():\n",
    "        print('func2 시작')\n",
    "        print('func2 끝')\n",
    "        return\n",
    "    \n",
    "    func2()\n",
    "    return\n",
    "\n",
    "\n",
    "func1()"
   ]
  },
  {
   "cell_type": "code",
   "execution_count": 7,
   "id": "664a45e5",
   "metadata": {},
   "outputs": [
    {
     "name": "stdout",
     "output_type": "stream",
     "text": [
      "로컬!\n",
      "{'x': '로컬!'}\n"
     ]
    }
   ],
   "source": [
    "#global\n",
    "x = '글로벌!' #글로벌에 있음\n",
    "def func1():\n",
    "    x = '인클로징!'\n",
    "    \n",
    "    def func2():\n",
    "        x = '로컬!'\n",
    "        print(x)\n",
    "        print(locals())\n",
    "       \n",
    "        \n",
    "    func2()\n",
    "    \n",
    "func1()"
   ]
  },
  {
   "cell_type": "code",
   "execution_count": 8,
   "id": "f1805864",
   "metadata": {},
   "outputs": [
    {
     "name": "stdout",
     "output_type": "stream",
     "text": [
      "로컬!\n",
      "{'a': 2, 'b': 3, 'x': '로컬!'}\n"
     ]
    }
   ],
   "source": [
    "x = '글로벌!' \n",
    "def func1():\n",
    "    x = '인클로징!'\n",
    "    \n",
    "    def func2(a, b):\n",
    "        x = '로컬!'\n",
    "        print(x)\n",
    "        print(locals())\n",
    "       \n",
    "        \n",
    "    func2(2, 3)\n",
    "    \n",
    "func1()"
   ]
  },
  {
   "cell_type": "code",
   "execution_count": 9,
   "id": "a50154f4",
   "metadata": {},
   "outputs": [
    {
     "name": "stdout",
     "output_type": "stream",
     "text": [
      "인클로징!\n",
      "인클로징!\n"
     ]
    }
   ],
   "source": [
    "x = '글로벌!' \n",
    "\n",
    "\n",
    "def func1():\n",
    "    global x\n",
    "    x = '인클로징!'\n",
    "    print(x)\n",
    "    \n",
    "           \n",
    "func1()\n",
    "print(x)"
   ]
  },
  {
   "cell_type": "code",
   "execution_count": null,
   "id": "6d5db442",
   "metadata": {},
   "outputs": [],
   "source": [
    "x = '글로벌!' \n",
    "my_list = [1, 2, 3, 4]\n",
    "\n",
    "def func1():\n",
    "    my_list[1] = 5554\n",
    "    \n",
    "               \n",
    "func1()\n",
    "print(my_list)"
   ]
  },
  {
   "cell_type": "code",
   "execution_count": 12,
   "id": "3c3b8bef",
   "metadata": {},
   "outputs": [
    {
     "name": "stdout",
     "output_type": "stream",
     "text": [
      "3\n",
      "3\n",
      "1\n"
     ]
    }
   ],
   "source": [
    "x =1\n",
    "\n",
    "def func1():\n",
    "    x = 2\n",
    "    \n",
    "    def func2():\n",
    "        nonlocal x #글로벌, 로컬 아니고 나를 감싸고 있는 가장 가까운 함수\n",
    "        x = 3\n",
    "        print(x)\n",
    "        \n",
    "    func2()\n",
    "    print(x)\n",
    "    \n",
    "func1()\n",
    "print(x)"
   ]
  },
  {
   "cell_type": "code",
   "execution_count": 22,
   "id": "2dc4d35e",
   "metadata": {},
   "outputs": [
    {
     "name": "stdout",
     "output_type": "stream",
     "text": [
      "20\n",
      "1\n"
     ]
    }
   ],
   "source": [
    "def func1():\n",
    "    x = 10\n",
    "    \n",
    "    def func2():\n",
    "        nonlocal x\n",
    "        \n",
    "        x = 20\n",
    "        \n",
    "    func2()\n",
    "    print(x)\n",
    "    \n",
    "    \n",
    "func1()\n",
    "print(x)"
   ]
  },
  {
   "cell_type": "code",
   "execution_count": 26,
   "id": "58611144",
   "metadata": {},
   "outputs": [
    {
     "name": "stdout",
     "output_type": "stream",
     "text": [
      "***\n",
      "###\n"
     ]
    }
   ],
   "source": [
    "for _ in range(1):\n",
    "    print('***')\n",
    "for _ in range(1):\n",
    "    print('###')"
   ]
  },
  {
   "cell_type": "code",
   "execution_count": 27,
   "id": "03baf757",
   "metadata": {},
   "outputs": [
    {
     "name": "stdout",
     "output_type": "stream",
     "text": [
      "***\n",
      "***\n",
      "###\n",
      "###\n"
     ]
    }
   ],
   "source": [
    "for _ in range(2):\n",
    "    print('***')\n",
    "for _ in range(2):\n",
    "    print('###')"
   ]
  },
  {
   "cell_type": "code",
   "execution_count": 28,
   "id": "89fa6d2b",
   "metadata": {},
   "outputs": [
    {
     "name": "stdout",
     "output_type": "stream",
     "text": [
      "helloworld\n",
      "None\n"
     ]
    }
   ],
   "source": [
    "def helloworld():\n",
    "    print('hello world!')\n",
    "    \n",
    "print(helloworld())"
   ]
  },
  {
   "cell_type": "code",
   "execution_count": null,
   "id": "04c81cad",
   "metadata": {},
   "outputs": [],
   "source": [
    "def sum(a,b):\n",
    "    return a + b, a -b #튜플 데이터타입으로 가진다\n",
    "\n",
    "print(sum(1,2))"
   ]
  },
  {
   "cell_type": "code",
   "execution_count": null,
   "id": "62cdc5fe",
   "metadata": {},
   "outputs": [],
   "source": [
    "def sum(a,b):\n",
    "    return a + b\n",
    "\n",
    "print(sum(1,2))"
   ]
  },
  {
   "cell_type": "code",
   "execution_count": 32,
   "id": "4e5071d0",
   "metadata": {},
   "outputs": [
    {
     "name": "stdout",
     "output_type": "stream",
     "text": [
      "10과 20의 차는 -10입니다.\n"
     ]
    }
   ],
   "source": [
    "def print_sub(a, b):\n",
    "    return f'{a}과 {b}의 차는 {a - b}입니다.'\n",
    "\n",
    "print(print_sub(10, 20))"
   ]
  },
  {
   "cell_type": "code",
   "execution_count": 33,
   "id": "f9c11908",
   "metadata": {},
   "outputs": [
    {
     "name": "stdout",
     "output_type": "stream",
     "text": [
      "10과 20의 곱은 200입니다.\n"
     ]
    }
   ],
   "source": [
    "def print_sub(a, b):\n",
    "    return f'{a}과 {b}의 곱은 {a * b}입니다.'\n",
    "\n",
    "print(print_sub(10, 20))"
   ]
  },
  {
   "cell_type": "code",
   "execution_count": 37,
   "id": "8e5419d3",
   "metadata": {},
   "outputs": [
    {
     "name": "stdout",
     "output_type": "stream",
     "text": [
      "1\n"
     ]
    }
   ],
   "source": [
    "a = 1\n",
    "\n",
    "def func():\n",
    "    a = 2\n",
    "func()\n",
    "print(a)"
   ]
  },
  {
   "cell_type": "code",
   "execution_count": 38,
   "id": "0959480b",
   "metadata": {},
   "outputs": [
    {
     "name": "stdout",
     "output_type": "stream",
     "text": [
      "2\n"
     ]
    }
   ],
   "source": [
    "a = 1\n",
    "\n",
    "def func():\n",
    "    global a\n",
    "    a = 2\n",
    "    \n",
    "func()\n",
    "print(a)"
   ]
  },
  {
   "cell_type": "code",
   "execution_count": 39,
   "id": "81e162df",
   "metadata": {},
   "outputs": [
    {
     "name": "stdout",
     "output_type": "stream",
     "text": [
      "6\n"
     ]
    }
   ],
   "source": [
    "num_list = [1, 2, 3]\n",
    "\n",
    "\n",
    "print(sum(num_list))"
   ]
  },
  {
   "cell_type": "code",
   "execution_count": 2,
   "id": "efdbf58d",
   "metadata": {},
   "outputs": [
    {
     "name": "stdout",
     "output_type": "stream",
     "text": [
      "[10, 20, 30, 40, 50]\n"
     ]
    }
   ],
   "source": [
    "# 1월 19일\n",
    "def my_magic_func(n):\n",
    "    return n * 10\n",
    "\n",
    "my_list = [1, 2, 3, 4, 5]\n",
    "\n",
    "map_obj = map(my_magic_func, my_list)\n",
    "print(list(map_obj))"
   ]
  },
  {
   "cell_type": "code",
   "execution_count": 3,
   "id": "c9da35f9",
   "metadata": {},
   "outputs": [
    {
     "name": "stdout",
     "output_type": "stream",
     "text": [
      "신동민 17\n",
      "서재현 18\n",
      "박영서 22\n",
      "이태성 24\n",
      "정예원 25\n",
      "이은석 19\n"
     ]
    }
   ],
   "source": [
    "name_list = ['신동민', '서재현', '박영서', '이태성', '정예원', '이은석']\n",
    "age_list = [17, 18, 22, 24, 25, 19]\n",
    "\n",
    "for name, age in zip(name_list, age_list):\n",
    "    print(name, age)"
   ]
  },
  {
   "cell_type": "code",
   "execution_count": 4,
   "id": "2ab32421",
   "metadata": {},
   "outputs": [
    {
     "name": "stdout",
     "output_type": "stream",
     "text": [
      "16\n"
     ]
    }
   ],
   "source": [
    "rlt = (lambda x: x * x)(4)\n",
    "\n",
    "my_func = lambda n: n * 2\n",
    "my_func(2)\n",
    "\n",
    "\n",
    "# def my_magic_func(n):\n",
    "#    return n * 10\n",
    "\n",
    "#map_obj = map(my_magic_func, [1, 2, 3])\n",
    "#rlt = list(map_obj)\n",
    "\n",
    "# print(rlt)\n"
   ]
  },
  {
   "cell_type": "code",
   "execution_count": 6,
   "id": "4079f95a",
   "metadata": {},
   "outputs": [
    {
     "name": "stdout",
     "output_type": "stream",
     "text": [
      "[10, 20, 30]\n"
     ]
    }
   ],
   "source": [
    "# def my_magic_func(n):\n",
    "#    return n * 10\n",
    "\n",
    "map_obj = map(lambda n: n * 10, [1, 2, 3])\n",
    "rlt = list(map_obj)\n",
    "\n",
    "print(rlt)"
   ]
  },
  {
   "cell_type": "code",
   "execution_count": null,
   "id": "6f328774",
   "metadata": {},
   "outputs": [],
   "source": [
    "#재귀함수 : 자기자신을 호출하는 함수\n",
    "\n",
    "def recur(0):\n",
    "    print('뿅')\n",
    "    recur()\n",
    "    \n",
    "    \n",
    "recur()"
   ]
  },
  {
   "cell_type": "code",
   "execution_count": 5,
   "id": "386b6a12",
   "metadata": {},
   "outputs": [
    {
     "name": "stdout",
     "output_type": "stream",
     "text": [
      "120\n"
     ]
    }
   ],
   "source": [
    "def fac(n):\n",
    "    if n == 0:\n",
    "        return 1 #for나 while 같은 반복문 멈출때만 break\n",
    "    return n * fac(n-1)\n",
    "\n",
    "print(fac(5))"
   ]
  },
  {
   "cell_type": "code",
   "execution_count": 7,
   "id": "c96f156c",
   "metadata": {},
   "outputs": [
    {
     "name": "stdout",
     "output_type": "stream",
     "text": [
      "1 [2, 3, 4]\n"
     ]
    }
   ],
   "source": [
    "#패킹 언패킹 *\n",
    "\n",
    "x, y = 1, 2\n",
    "z = 1, 2, 3 #튜플로 재할당 됨\n",
    "\n",
    "# a, b = 1, 2, 3, 4 #에러남\n",
    "a, *b = 1, 2, 3, 4 #하나 a에 할당 나머지 b에 할당\n",
    "\n",
    "print(a, b)"
   ]
  },
  {
   "cell_type": "code",
   "execution_count": 10,
   "id": "39e68cfe",
   "metadata": {},
   "outputs": [
    {
     "name": "stdout",
     "output_type": "stream",
     "text": [
      "60\n"
     ]
    }
   ],
   "source": [
    "def my_sum(a, b, c):\n",
    "    return a + b + c\n",
    "\n",
    "num_list = [10, 20, 30]\n",
    "\n",
    "# rlt = my_sum(num_list[0], num_list[1], num_list[2])\n",
    "# ==\n",
    "rlt = my_sum(*num_list) #언패킹\n",
    "print(rlt)"
   ]
  },
  {
   "cell_type": "code",
   "execution_count": null,
   "id": "f62a6f96",
   "metadata": {},
   "outputs": [],
   "source": [
    "def test(*values):\n",
    "    for value in values:\n",
    "        print(value)\n",
    "        \n",
    "test(1)\n",
    "test(1, 2)\n",
    "test(1, 2, 3, 4)"
   ]
  },
  {
   "cell_type": "code",
   "execution_count": null,
   "id": "e2a7ae19",
   "metadata": {},
   "outputs": [],
   "source": [
    "def my_sum(*agrs):\n",
    "    rlt = 0\n",
    "    for value in agrs:\n",
    "        rlt += value\n",
    "    return rlt\n",
    "\n",
    "my_sum() #0\n",
    "my_sum(1, 2, 3) #6"
   ]
  },
  {
   "cell_type": "code",
   "execution_count": null,
   "id": "8e227a13",
   "metadata": {},
   "outputs": [],
   "source": [
    "def my_sum(a, *agrs):\n",
    "    rlt = 0\n",
    "    for value in agrs:\n",
    "        rlt += value\n",
    "    return rlt\n",
    "\n",
    "my_sum() #error\n",
    "my_sum(1, 2, 3) #6"
   ]
  },
  {
   "cell_type": "code",
   "execution_count": 11,
   "id": "cdc3346e",
   "metadata": {},
   "outputs": [
    {
     "name": "stdout",
     "output_type": "stream",
     "text": [
      "{'name': 'aiden', 'age': 21}\n"
     ]
    },
    {
     "data": {
      "text/plain": [
       "{'name': 'aiden', 'age': 21}"
      ]
     },
     "execution_count": 11,
     "metadata": {},
     "output_type": "execute_result"
    }
   ],
   "source": [
    "def test(**kwargs):\n",
    "    print(kwargs)\n",
    "    return kwargs\n",
    "\n",
    "\n",
    "test(name='aiden', age=21)"
   ]
  },
  {
   "cell_type": "code",
   "execution_count": 14,
   "id": "bc6e5f0b",
   "metadata": {},
   "outputs": [
    {
     "name": "stdout",
     "output_type": "stream",
     "text": [
      "(1, 2, 3, 4) {'name': 'aiden', 'age': 21, 'music': 'IU'}\n"
     ]
    },
    {
     "data": {
      "text/plain": [
       "((1, 2, 3, 4), {'name': 'aiden', 'age': 21, 'music': 'IU'})"
      ]
     },
     "execution_count": 14,
     "metadata": {},
     "output_type": "execute_result"
    }
   ],
   "source": [
    "def test(*args, **kwargs):\n",
    "    print(args, kwargs)\n",
    "    kwargs['name']\n",
    "    return args, kwargs\n",
    "\n",
    "\n",
    "test(1, 2, 3, 4, name='aiden', age=21, music='IU')"
   ]
  },
  {
   "cell_type": "code",
   "execution_count": 15,
   "id": "59b39d0e",
   "metadata": {},
   "outputs": [
    {
     "name": "stdout",
     "output_type": "stream",
     "text": [
      "[1, 4, 2, 3]\n"
     ]
    }
   ],
   "source": [
    "import random\n",
    "\n",
    "num_list = [1, 2, 3, 4]\n",
    "random.shuffle(num_list)\n",
    "print(num_list)"
   ]
  },
  {
   "cell_type": "code",
   "execution_count": 17,
   "id": "07aed777",
   "metadata": {},
   "outputs": [
    {
     "name": "stdout",
     "output_type": "stream",
     "text": [
      "[4, 1, 2, 3]\n"
     ]
    }
   ],
   "source": [
    "from random import shuffle\n",
    "\n",
    "num_list = [1, 2, 3, 4]\n",
    "shuffle(num_list)\n",
    "print(num_list)"
   ]
  },
  {
   "cell_type": "code",
   "execution_count": 2,
   "id": "426ff0f0",
   "metadata": {},
   "outputs": [
    {
     "name": "stdout",
     "output_type": "stream",
     "text": [
      "0\n",
      "-1\n"
     ]
    }
   ],
   "source": [
    "# 1월 25일\n",
    "print('aiden'.find('a')) # 첫번째 위치 반환\n",
    "print('aiden'.find('c')) # 없으면 -1 반환"
   ]
  },
  {
   "cell_type": "code",
   "execution_count": 6,
   "id": "59eeb02f",
   "metadata": {},
   "outputs": [
    {
     "data": {
      "text/plain": [
       "'문자 : 10개, 숫자 : 2개, 기호 : 7개'"
      ]
     },
     "execution_count": 6,
     "metadata": {},
     "output_type": "execute_result"
    }
   ],
   "source": [
    "#주어진 문자열에서 숫자, 문자, 기호가\n",
    "#각각 몇개인지를 판단하는 함수를 작성해보세요.\n",
    "def check(target_str):\n",
    "    chars = 0\n",
    "    nums = 0\n",
    "    signs = 0\n",
    "    for i in target_str:\n",
    "        if i.isalpha(): # 문자열이 문자열인지 아닌지를 불린값으로 리턴\n",
    "            chars += 1\n",
    "        elif i.isnumeric(): # 숫자값 표현에 해당하는 문자열까지 인정 불린값으로 리턴\n",
    "            nums += 1\n",
    "        else:\n",
    "            signs += 1\n",
    "    return f'문자 : {chars}개, 숫자 : {nums}개, 기호 : {signs}개'\n",
    "\n",
    "check('abcdefghij12!@#$%^*')\n",
    "\n",
    "#문자 : 10개, 숫자 : 2개, 기호 : 7개 #내가 푼거"
   ]
  },
  {
   "cell_type": "code",
   "execution_count": 1,
   "id": "2147e5bc",
   "metadata": {},
   "outputs": [
    {
     "name": "stdout",
     "output_type": "stream",
     "text": [
      "char: 9, digit: 3, symbol: 3\n"
     ]
    }
   ],
   "source": [
    "#주어진 문자열에서 숫자, 문자, 기호가\n",
    "#각각 몇개인지를 판단하는 함수를 작성해보세요.\n",
    "def check(target_str):\n",
    "    chars = 0\n",
    "    nums = 0\n",
    "    signs = 0\n",
    "    for i in target_str:\n",
    "        if i.isalpha(): \n",
    "            chars += 1\n",
    "        elif i.isdigit(): \n",
    "            nums += 1\n",
    "        else:\n",
    "            signs += 1\n",
    "            \n",
    "    return chars, nums, signs\n",
    "\n",
    "input_str = '123$%aiden_snow'\n",
    "chars, nums, signs = check(input_str) #각각 반환\n",
    "print(f'char: {chars}, digit: {nums}, symbol: {signs}')"
   ]
  },
  {
   "cell_type": "code",
   "execution_count": 1,
   "id": "04f467d6",
   "metadata": {},
   "outputs": [
    {
     "name": "stdout",
     "output_type": "stream",
     "text": [
      "2\n"
     ]
    }
   ],
   "source": [
    "class Person:\n",
    "    count = 0\n",
    "    def __init__(self, name):\n",
    "        self.name = name\n",
    "        Person.count += 1\n",
    "        \n",
    "person1 = Person('아이유')\n",
    "person2 = Person('이찬혁')\n",
    "\n",
    "print(Person.count)"
   ]
  },
  {
   "cell_type": "code",
   "execution_count": null,
   "id": "599b7287",
   "metadata": {},
   "outputs": [],
   "source": [
    "class Person:\n",
    "    def __init__(self, name, age):\n",
    "        print('생성될 때 자동으로 불려요')\n",
    "        self.name = name\n",
    "        self.age = age\n",
    "        \n",
    "    def __str__(self):\n",
    "        return '이 클래스를 하나의 문자열로 표현하면 이겁니다'\n",
    "        \n",
    "        \n",
    "aiden = Person('aiden', 23)\n",
    "print(aiden)\n",
    "isaac = Person('isaac', 19)\n",
    "print(aiden > isaac)"
   ]
  },
  {
   "cell_type": "code",
   "execution_count": null,
   "id": "09374006",
   "metadata": {},
   "outputs": [],
   "source": [
    "class Person:\n",
    "    count = 0\n",
    "    def __init__(self, name):\n",
    "        self.name = name\n",
    "        Person.count += 1\n",
    "        \n",
    "    @classmethod\n",
    "    def number_of_population(cls):\n",
    "        print(f'인구수는{cls.count}입니다.')\n",
    "        \n",
    "person1 = Person('아이유')\n",
    "person2 = Person('이찬혁')\n",
    "\n",
    "Person.number_of_population()\n",
    "person1.number_of_population()\n",
    "person2.number_of_population()"
   ]
  },
  {
   "cell_type": "code",
   "execution_count": 2,
   "id": "69af260f",
   "metadata": {},
   "outputs": [
    {
     "name": "stdout",
     "output_type": "stream",
     "text": [
      "<class 'type'>\n"
     ]
    }
   ],
   "source": [
    "class abc:\n",
    "    pass\n",
    "print(type(abc))"
   ]
  },
  {
   "cell_type": "code",
   "execution_count": 3,
   "id": "5a3cf087",
   "metadata": {},
   "outputs": [
    {
     "name": "stdout",
     "output_type": "stream",
     "text": [
      "True\n"
     ]
    }
   ],
   "source": [
    "print(isinstance(1.0, float))"
   ]
  },
  {
   "cell_type": "code",
   "execution_count": 11,
   "id": "304abcc6",
   "metadata": {},
   "outputs": [
    {
     "name": "stdout",
     "output_type": "stream",
     "text": [
      "<class 'type'>\n",
      "<class 'list'>\n",
      "<class 'int'>\n",
      "False\n",
      "True\n"
     ]
    }
   ],
   "source": [
    "print(type(type))\n",
    "\n",
    "a = [1, 2, 3, 4, 5]\n",
    "print(type(a))\n",
    "print(type(a[0]))\n",
    "print(isinstance(a[0], list))\n",
    "print(isinstance(a, list))"
   ]
  },
  {
   "cell_type": "code",
   "execution_count": 19,
   "id": "28d4b2c0",
   "metadata": {},
   "outputs": [
    {
     "name": "stdout",
     "output_type": "stream",
     "text": [
      "지민\n"
     ]
    }
   ],
   "source": [
    "class Person:\n",
    "    blood_color = 'red'\n",
    "    population = 100\n",
    "    \n",
    "    \n",
    "    def __init__(self, name):\n",
    "        self.name = name\n",
    "\n",
    "person1 = Person('지민')\n",
    "print(person1.name)"
   ]
  },
  {
   "cell_type": "code",
   "execution_count": null,
   "id": "f55becc7",
   "metadata": {},
   "outputs": [],
   "source": [
    "class Person:\n",
    "    species = 'human' #클래스 이름 공간\n",
    "    \n",
    "    def __init__(self, name):\n",
    "        self.name = name\n",
    "        \n",
    "p1 = Person('Hong') # 인스턴스 이름 공간\n",
    "p2 = Person('Choi') # 인스턴스 이름 공간"
   ]
  },
  {
   "cell_type": "code",
   "execution_count": null,
   "id": "a8f5e9e4",
   "metadata": {},
   "outputs": [],
   "source": [
    "class Person:\n",
    "    name = 'unknown'\n",
    "    \n",
    "    def talk(self):\n",
    "        print(self.name)\n",
    "        \n",
    "        \n",
    "p1 = Person()\n",
    "p1.talk() # unknown\n",
    "\n",
    "p2 = Person()\n",
    "p2.talk() # unknown\n",
    "p2.name = 'Kim'\n",
    "p2.talk() # Kim\n",
    "\n",
    "print(Person.name) # unknown\n",
    "print(p1.name) # unknown\n",
    "print(p2.name) # Kim"
   ]
  }
 ],
 "metadata": {
  "kernelspec": {
   "display_name": "Python 3 (ipykernel)",
   "language": "python",
   "name": "python3"
  },
  "language_info": {
   "codemirror_mode": {
    "name": "ipython",
    "version": 3
   },
   "file_extension": ".py",
   "mimetype": "text/x-python",
   "name": "python",
   "nbconvert_exporter": "python",
   "pygments_lexer": "ipython3",
   "version": "3.9.13"
  }
 },
 "nbformat": 4,
 "nbformat_minor": 5
}
