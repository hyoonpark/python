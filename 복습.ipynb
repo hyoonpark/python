{
 "cells": [
  {
   "cell_type": "code",
   "execution_count": 2,
   "id": "09e6d99f",
   "metadata": {},
   "outputs": [
    {
     "name": "stdout",
     "output_type": "stream",
     "text": [
      "날짜를 입력해주세요 ex)12/24: 12/25\n",
      "크리스마스입니다.\n"
     ]
    }
   ],
   "source": [
    "is_christmas = input('날짜를 입력해주세요 ex)12/24: ')\n",
    "if is_christmas == '12/25':\n",
    "    print('크리스마스입니다.')\n",
    "else:\n",
    "    print('크리스마스가 아닙니다.')"
   ]
  },
  {
   "cell_type": "code",
   "execution_count": 3,
   "id": "e8276588",
   "metadata": {},
   "outputs": [
    {
     "name": "stdout",
     "output_type": "stream",
     "text": [
      "숫자를 입력하세요 : 3\n",
      "홀수입니다.\n"
     ]
    }
   ],
   "source": [
    "num = int(input('숫자를 입력하세요 : '))\n",
    "if num % 2: # ==1 을 안 적어도 된다. True이기 때문에\n",
    "    print('홀수입니다.')\n",
    "else:\n",
    "    print('짝수입니다.')"
   ]
  },
  {
   "cell_type": "code",
   "execution_count": 5,
   "id": "438707c6",
   "metadata": {},
   "outputs": [
    {
     "name": "stdout",
     "output_type": "stream",
     "text": [
      "점수를 입력하세요 : 95\n",
      "A\n",
      "참 잘했어요\n"
     ]
    }
   ],
   "source": [
    "score = int(input('점수를 입력하세요 : ')) #복수조건문 활용하기\n",
    "if score >= 90:\n",
    "    print('A')\n",
    "    if score >= 95:\n",
    "        print('참 잘했어요')\n",
    "elif score >= 80:\n",
    "    print('B')\n",
    "elif score >= 70:\n",
    "    print('C')\n",
    "elif score >= 60:\n",
    "    print('D')\n",
    "else:\n",
    "    print('F')"
   ]
  },
  {
   "cell_type": "code",
   "execution_count": 7,
   "id": "f5679654",
   "metadata": {},
   "outputs": [
    {
     "name": "stdout",
     "output_type": "stream",
     "text": [
      "숫자를 입력하세요 : -5\n",
      "0보다 작음\n"
     ]
    }
   ],
   "source": [
    "a = int(input('숫자를 입력하세요 : '))\n",
    "print('0보다 큼') if a > 0 else print('0보다 작음')"
   ]
  },
  {
   "cell_type": "code",
   "execution_count": 9,
   "id": "c152ea7a",
   "metadata": {},
   "outputs": [
    {
     "name": "stdout",
     "output_type": "stream",
     "text": [
      "0\n"
     ]
    }
   ],
   "source": [
    "num = -5\n",
    "if num >= 0:\n",
    "    value = num\n",
    "else:\n",
    "    value = 0\n",
    "print(value)"
   ]
  },
  {
   "cell_type": "code",
   "execution_count": 10,
   "id": "6b22ec27",
   "metadata": {},
   "outputs": [
    {
     "name": "stdout",
     "output_type": "stream",
     "text": [
      "숫자를 입력하세요 : -5\n",
      "5\n"
     ]
    }
   ],
   "source": [
    "num = int(input('숫자를 입력하세요 : '))\n",
    "if num >= 0:\n",
    "    value = num\n",
    "else:\n",
    "    value = -num\n",
    "print(value)\n",
    "#절대값 출력하기 조건 표현식을 if문으로"
   ]
  },
  {
   "cell_type": "code",
   "execution_count": 12,
   "id": "5e29ec33",
   "metadata": {},
   "outputs": [
    {
     "name": "stdout",
     "output_type": "stream",
     "text": [
      "짝수입니다.\n"
     ]
    }
   ],
   "source": [
    "num = 2\n",
    "print('홀수입니다.') if num % 2 else print('짝수입니다.')\n",
    "#조건표현식"
   ]
  },
  {
   "cell_type": "code",
   "execution_count": 13,
   "id": "a1b46e33",
   "metadata": {},
   "outputs": [
    {
     "name": "stdout",
     "output_type": "stream",
     "text": [
      "0\n",
      "1\n",
      "2\n",
      "3\n",
      "4\n",
      "끝\n"
     ]
    }
   ],
   "source": [
    "a = 0\n",
    "while a < 5:\n",
    "    print(a)\n",
    "    a += 1\n",
    "print('끝')"
   ]
  },
  {
   "cell_type": "code",
   "execution_count": 14,
   "id": "e62b2944",
   "metadata": {
    "scrolled": true
   },
   "outputs": [
    {
     "name": "stdout",
     "output_type": "stream",
     "text": [
      "안녕하세요\n",
      "ㅇ\n",
      "안녕하세요\n",
      "안\n",
      "안녕하세요\n",
      "안녕\n",
      "끝\n"
     ]
    }
   ],
   "source": [
    "says = ''\n",
    "while says != '안녕':\n",
    "    print('안녕하세요')\n",
    "    says = input()\n",
    "print('끝')"
   ]
  },
  {
   "cell_type": "code",
   "execution_count": 23,
   "id": "465eae04",
   "metadata": {},
   "outputs": [
    {
     "name": "stdout",
     "output_type": "stream",
     "text": [
      "아\n",
      "안녕하세요\n",
      "안녕\n"
     ]
    }
   ],
   "source": [
    "says = input()\n",
    "while says != '안녕':\n",
    "    print('안녕하세요')\n",
    "    says = input()"
   ]
  },
  {
   "cell_type": "code",
   "execution_count": 21,
   "id": "7e421a90",
   "metadata": {},
   "outputs": [
    {
     "name": "stdout",
     "output_type": "stream",
     "text": [
      "입력하세요 : 안녕!\n",
      "안녕!\n",
      "안\n",
      "녕\n",
      "!\n",
      "3\n"
     ]
    }
   ],
   "source": [
    "s = input('입력하세요 : ')\n",
    "\n",
    "for i in s:\n",
    "    print(i)"
   ]
  },
  {
   "cell_type": "code",
   "execution_count": 20,
   "id": "04273b2c",
   "metadata": {},
   "outputs": [
    {
     "name": "stdout",
     "output_type": "stream",
     "text": [
      "59\n",
      "24\n",
      "102\n",
      "3\n"
     ]
    }
   ],
   "source": [
    "dust = [59, 24, 102]\n",
    "for i in dust:\n",
    "    print(i)"
   ]
  },
  {
   "cell_type": "code",
   "execution_count": 2,
   "id": "303ad921",
   "metadata": {},
   "outputs": [
    {
     "name": "stdout",
     "output_type": "stream",
     "text": [
      "20\n"
     ]
    },
    {
     "ename": "NameError",
     "evalue": "name 'x' is not defined",
     "output_type": "error",
     "traceback": [
      "\u001b[1;31m---------------------------------------------------------------------------\u001b[0m",
      "\u001b[1;31mNameError\u001b[0m                                 Traceback (most recent call last)",
      "Cell \u001b[1;32mIn[2], line 14\u001b[0m\n\u001b[0;32m     10\u001b[0m     \u001b[38;5;28mprint\u001b[39m(x)\n\u001b[0;32m     13\u001b[0m func1()\n\u001b[1;32m---> 14\u001b[0m \u001b[38;5;28mprint\u001b[39m(\u001b[43mx\u001b[49m)\n",
      "\u001b[1;31mNameError\u001b[0m: name 'x' is not defined"
     ]
    }
   ],
   "source": [
    "def func1():\n",
    "    x = 10\n",
    "    \n",
    "    def func2():\n",
    "        nonlocal x\n",
    "        \n",
    "        x = 20\n",
    "        \n",
    "    func2()\n",
    "    print(x)\n",
    "    \n",
    "    \n",
    "func1()\n",
    "print(x)"
   ]
  },
  {
   "cell_type": "code",
   "execution_count": 3,
   "id": "eb79da92",
   "metadata": {},
   "outputs": [
    {
     "name": "stdout",
     "output_type": "stream",
     "text": [
      "직사각형 둘레: 100, 면적: 600입니다.\n"
     ]
    }
   ],
   "source": [
    "height = 30\n",
    "width = 20\n",
    "\n",
    "cir = (height * 2) + (width * 2)\n",
    "area = height * width\n",
    "print(f'직사각형 둘레: {cir}, 면적: {area}입니다.')"
   ]
  },
  {
   "cell_type": "code",
   "execution_count": 6,
   "id": "83fb782f",
   "metadata": {},
   "outputs": [
    {
     "name": "stdout",
     "output_type": "stream",
     "text": [
      "직사각형 둘레: 200, 면적: 2100입니다.\n"
     ]
    }
   ],
   "source": [
    "def rectangle(width, height):\n",
    "    area = width * height\n",
    "    cir = 2 * (width + height)\n",
    "    f'직사각형 둘레: {cir}, 면적: {area}입니다.'\n",
    "    return\n",
    "\n",
    "rectangle(30, 70)"
   ]
  },
  {
   "cell_type": "code",
   "execution_count": 8,
   "id": "1911351f",
   "metadata": {},
   "outputs": [
    {
     "data": {
      "text/plain": [
       "5"
      ]
     },
     "execution_count": 8,
     "metadata": {},
     "output_type": "execute_result"
    }
   ],
   "source": [
    "def my_max(num1, num2):\n",
    "    if num1 > num2:\n",
    "        return num1\n",
    "    else:\n",
    "        return num2\n",
    "my_max(1, 5)"
   ]
  },
  {
   "cell_type": "code",
   "execution_count": 9,
   "id": "512428be",
   "metadata": {},
   "outputs": [
    {
     "data": {
      "text/plain": [
       "[5, 9]"
      ]
     },
     "execution_count": 9,
     "metadata": {},
     "output_type": "execute_result"
    }
   ],
   "source": [
    "def my_list_max(lst1, lst2):\n",
    "    if sum(lst1) > sum(lst2):\n",
    "        return lst1\n",
    "    else:\n",
    "        return lst2\n",
    "my_list_max([10, 3], [5, 9])"
   ]
  },
  {
   "cell_type": "code",
   "execution_count": 12,
   "id": "9a3f0343",
   "metadata": {},
   "outputs": [
    {
     "name": "stdout",
     "output_type": "stream",
     "text": [
      "157.0\n"
     ]
    }
   ],
   "source": [
    "def cylinder(r, h):\n",
    "    return r**2 * 3.14 * h\n",
    "\n",
    "print(cylinder(5, 2))"
   ]
  },
  {
   "cell_type": "code",
   "execution_count": null,
   "id": "382d210a",
   "metadata": {},
   "outputs": [],
   "source": [
    "name = input()\n",
    "def greeting(name):\n",
    "    return f'{name}, 안녕?'\n",
    "\n",
    "print(greeting(name))"
   ]
  },
  {
   "cell_type": "code",
   "execution_count": null,
   "id": "43dd6f95",
   "metadata": {},
   "outputs": [],
   "source": [
    "def greeting(age, name='john'):\n",
    "    return f'{name}은 {age}살 입니다.'\n",
    "print(greeting(1))"
   ]
  },
  {
   "cell_type": "code",
   "execution_count": 13,
   "id": "59450f1b",
   "metadata": {},
   "outputs": [
    {
     "name": "stdout",
     "output_type": "stream",
     "text": [
      "4\n"
     ]
    }
   ],
   "source": [
    "def my_max(a, b, c, d):\n",
    "    return max(a, b, c, d)\n",
    "\n",
    "print(my_max(1, 2, 3, 4))"
   ]
  },
  {
   "cell_type": "code",
   "execution_count": 14,
   "id": "47625e36",
   "metadata": {},
   "outputs": [
    {
     "name": "stdout",
     "output_type": "stream",
     "text": [
      "40\n"
     ]
    }
   ],
   "source": [
    "def my_max(*args):\n",
    "    result = 0\n",
    "    for idx, val in enumerate(args):\n",
    "        if idx == 0:\n",
    "            result = val\n",
    "        else:\n",
    "            if val > result:\n",
    "                result = val\n",
    "    return result\n",
    "\n",
    "print(my_max(10, 20, 30, 40))"
   ]
  },
  {
   "cell_type": "code",
   "execution_count": 15,
   "id": "611dbd68",
   "metadata": {},
   "outputs": [
    {
     "data": {
      "text/plain": [
       "(1, 2)"
      ]
     },
     "execution_count": 15,
     "metadata": {},
     "output_type": "execute_result"
    }
   ],
   "source": [
    "def my_func(*args):\n",
    "    return args\n",
    "\n",
    "my_func(1, 2)"
   ]
  },
  {
   "cell_type": "code",
   "execution_count": 16,
   "id": "1b78687b",
   "metadata": {},
   "outputs": [
    {
     "name": "stdout",
     "output_type": "stream",
     "text": [
      "1는 홀수\n",
      "3는 홀수\n",
      "5는 홀수\n"
     ]
    }
   ],
   "source": [
    "for i in range(6):\n",
    "    if i % 2 == 0:\n",
    "        continue\n",
    "        print(f'{i}는 짝수다')\n",
    "    print(f'{i}는 홀수')"
   ]
  },
  {
   "cell_type": "code",
   "execution_count": 19,
   "id": "572287d8",
   "metadata": {},
   "outputs": [
    {
     "name": "stdout",
     "output_type": "stream",
     "text": [
      "23 살은 성인입니다.\n",
      "30 살은 성인입니다.\n",
      "25 살은 성인입니다.\n",
      "31 살은 성인입니다.\n"
     ]
    }
   ],
   "source": [
    "ages = [10, 23, 8, 30, 25, 31]\n",
    "for i in ages:\n",
    "    if i < 20:\n",
    "        continue\n",
    "        \n",
    "    print(f'{i} 살은 성인입니다.')"
   ]
  },
  {
   "cell_type": "code",
   "execution_count": 1,
   "id": "e9102deb",
   "metadata": {},
   "outputs": [
    {
     "name": "stdout",
     "output_type": "stream",
     "text": [
      "[1, 8, 27, 64, 125]\n"
     ]
    }
   ],
   "source": [
    "def square(num):\n",
    "    return num**3\n",
    "numbers = [1, 2, 3, 4, 5]\n",
    "rlt = map(square, numbers)\n",
    "print(list(rlt))"
   ]
  },
  {
   "cell_type": "code",
   "execution_count": 2,
   "id": "ff83fc1c",
   "metadata": {},
   "outputs": [
    {
     "name": "stdout",
     "output_type": "stream",
     "text": [
      "[1, 2, 3]\n"
     ]
    }
   ],
   "source": [
    "nums = ['1', '2', '3']\n",
    "rlt = map(int, nums) #int는 내장함수라 def 안해도된다\n",
    "print(list(rlt))"
   ]
  },
  {
   "cell_type": "code",
   "execution_count": 8,
   "id": "b192491c",
   "metadata": {},
   "outputs": [
    {
     "name": "stdout",
     "output_type": "stream",
     "text": [
      "3 5\n",
      "3 5\n"
     ]
    }
   ],
   "source": [
    "a, b = map(int, input().split())\n",
    "print(a, b)"
   ]
  },
  {
   "cell_type": "code",
   "execution_count": 11,
   "id": "131bedc8",
   "metadata": {},
   "outputs": [
    {
     "name": "stdout",
     "output_type": "stream",
     "text": [
      "[1, 3, 5]\n"
     ]
    }
   ],
   "source": [
    "def odd(num):\n",
    "    return num % 2\n",
    "nums = [1, 2, 3, 4, 5]\n",
    "rlt = filter(odd, nums)\n",
    "\n",
    "print(list(rlt))"
   ]
  },
  {
   "cell_type": "code",
   "execution_count": 4,
   "id": "704f5015",
   "metadata": {},
   "outputs": [
    {
     "data": {
      "text/plain": [
       "'abcd'"
      ]
     },
     "execution_count": 4,
     "metadata": {},
     "output_type": "execute_result"
    }
   ],
   "source": [
    "char = 'abce'\n",
    "char.replace('abce', 'abcd')"
   ]
  },
  {
   "cell_type": "code",
   "execution_count": 12,
   "id": "8b1a6d6a",
   "metadata": {},
   "outputs": [
    {
     "name": "stdout",
     "output_type": "stream",
     "text": [
      "False\n",
      "False\n",
      "True\n",
      "True\n"
     ]
    }
   ],
   "source": [
    "print('sasdf'.istitle())\n",
    "print('title t'.istitle())\n",
    "print('Title Title'.istitle())\n",
    "print('Title Exam'.istitle())\n",
    "# 첫글자들 대문자 띄어쓰기, 특수문자 뒤"
   ]
  },
  {
   "cell_type": "code",
   "execution_count": 13,
   "id": "283b851c",
   "metadata": {},
   "outputs": [
    {
     "name": "stdout",
     "output_type": "stream",
     "text": [
      "{'A': 4, 'O': 4, 'B': 3, 'AB': 2}\n"
     ]
    }
   ],
   "source": [
    "blood_types = [ 'A','A','O', 'B', 'A', 'O', 'AB','O', 'A', 'B', 'O', 'B', 'AB']\n",
    "\n",
    "blood_dict = {}\n",
    "for types in blood_types:\n",
    "    if types not in blood_dict:\n",
    "        blood_dict[types] = 1\n",
    "    else:\n",
    "        blood_dict[types] += 1\n",
    "print(blood_dict)\n"
   ]
  },
  {
   "cell_type": "code",
   "execution_count": 14,
   "id": "7ae5d26c",
   "metadata": {},
   "outputs": [
    {
     "name": "stdout",
     "output_type": "stream",
     "text": [
      "s!s!a!f!y\n",
      "3 5\n"
     ]
    }
   ],
   "source": [
    "print('!'.join('ssafy'))\n",
    "print(' '.join(['3', '5']))"
   ]
  },
  {
   "cell_type": "code",
   "execution_count": 18,
   "id": "c026a2dc",
   "metadata": {},
   "outputs": [
    {
     "name": "stdout",
     "output_type": "stream",
     "text": [
      "[['hollys']]\n",
      "[['hollys'], 'droptop', '빽다방']\n"
     ]
    }
   ],
   "source": [
    "cafe = []\n",
    "cafe.append(['hollys']) #리스트 자체를 넣음\n",
    "print(cafe)\n",
    "cafe.extend(['droptop', '빽다방']) #리스트 요소 하나하나를 넣음\n",
    "print(cafe)"
   ]
  },
  {
   "cell_type": "code",
   "execution_count": 22,
   "id": "0b5716f8",
   "metadata": {},
   "outputs": [
    {
     "name": "stdout",
     "output_type": "stream",
     "text": [
      "0\n",
      "1\n",
      "2\n",
      "[2, 5, 5]\n"
     ]
    }
   ],
   "source": [
    "a = [1, 2, 5, 1, 5, 1]\n",
    "a.count(1)\n",
    "target_value = 1\n",
    "for i in range(a.count(target_value)):\n",
    "    a.remove(target_value)\n",
    "    \n",
    "print(a)"
   ]
  },
  {
   "cell_type": "code",
   "execution_count": 21,
   "id": "474c3f62",
   "metadata": {},
   "outputs": [
    {
     "data": {
      "text/plain": [
       "3"
      ]
     },
     "execution_count": 21,
     "metadata": {},
     "output_type": "execute_result"
    }
   ],
   "source": [
    "a = [1, 2, 5, 1, 5, 1]\n",
    "a.count(1)"
   ]
  },
  {
   "cell_type": "code",
   "execution_count": 25,
   "id": "45eeb22a",
   "metadata": {},
   "outputs": [
    {
     "name": "stdout",
     "output_type": "stream",
     "text": [
      "2411166024256\n",
      "2411165772288\n",
      "[1, 2, 3]\n",
      "[5, 2, 3]\n"
     ]
    }
   ],
   "source": [
    "a = [1, 2, 3]\n",
    "b = a[:] # 전체 복사\n",
    "print(id(a))\n",
    "print(id(b))\n",
    "b[0] = 5\n",
    "print(a)\n",
    "print(b)"
   ]
  },
  {
   "cell_type": "code",
   "execution_count": 26,
   "id": "7e059541",
   "metadata": {},
   "outputs": [
    {
     "name": "stdout",
     "output_type": "stream",
     "text": [
      "[('justin', 'jane'), ('justin', 'iu'), ('justin', 'mary'), ('david', 'jane'), ('david', 'iu'), ('david', 'mary'), ('kim', 'jane'), ('kim', 'iu'), ('kim', 'mary')]\n"
     ]
    }
   ],
   "source": [
    "girls = ['jane', 'iu', 'mary']\n",
    "boys = ['justin', 'david', 'kim']\n",
    "pair = []\n",
    "for boy in boys:\n",
    "    for girl in girls:\n",
    "        pair.append((boy, girl))\n",
    "print(pair)"
   ]
  },
  {
   "cell_type": "code",
   "execution_count": 27,
   "id": "4d19e2c9",
   "metadata": {},
   "outputs": [
    {
     "name": "stdout",
     "output_type": "stream",
     "text": [
      "[('justin', 'jane'), ('justin', 'iu'), ('justin', 'mary'), ('david', 'jane'), ('david', 'iu'), ('david', 'mary'), ('kim', 'jane'), ('kim', 'iu'), ('kim', 'mary')]\n"
     ]
    }
   ],
   "source": [
    "girls = ['jane', 'iu', 'mary']\n",
    "boys = ['justin', 'david', 'kim']\n",
    "pair =[(boy, girl) for boy in boys for girl in girls]\n",
    "print(pair)"
   ]
  },
  {
   "cell_type": "code",
   "execution_count": 29,
   "id": "b6edce47",
   "metadata": {},
   "outputs": [
    {
     "name": "stdout",
     "output_type": "stream",
     "text": [
      "[(3, 4, 5), (5, 12, 13), (6, 8, 10), (7, 24, 25), (8, 15, 17), (9, 12, 15), (9, 40, 41), (10, 24, 26), (12, 16, 20), (12, 35, 37), (15, 20, 25), (15, 36, 39), (16, 30, 34), (18, 24, 30), (20, 21, 29), (21, 28, 35), (24, 32, 40), (27, 36, 45)]\n"
     ]
    }
   ],
   "source": [
    "triangle_nums = []\n",
    "for x in range(1, 50):\n",
    "    for y in range(x, 50):\n",
    "        for z in range(y, 50):\n",
    "            if x**2 + y**2 == z**2:\n",
    "                triangle_nums.append((x, y, z))\n",
    "print(triangle_nums)"
   ]
  },
  {
   "cell_type": "code",
   "execution_count": 30,
   "id": "d8f01d08",
   "metadata": {},
   "outputs": [
    {
     "name": "stdout",
     "output_type": "stream",
     "text": [
      "[(3, 4, 5), (5, 12, 13), (6, 8, 10), (7, 24, 25), (8, 15, 17), (9, 12, 15), (9, 40, 41), (10, 24, 26), (12, 16, 20), (12, 35, 37), (15, 20, 25), (15, 36, 39), (16, 30, 34), (18, 24, 30), (20, 21, 29), (21, 28, 35), (24, 32, 40), (27, 36, 45)]\n"
     ]
    }
   ],
   "source": [
    "triangle_nums = [(x, y, z) for x in range(1, 50) for y in range(x, 50) for z in range(y, 50) if x**2 + y**2 == z**2]\n",
    "print(triangle_nums)"
   ]
  },
  {
   "cell_type": "code",
   "execution_count": 33,
   "id": "483fe6ac",
   "metadata": {},
   "outputs": [
    {
     "name": "stdout",
     "output_type": "stream",
     "text": [
      "Lf s t shrt, y nd pythn!\n"
     ]
    }
   ],
   "source": [
    "words = 'Life is too short, you need python!'\n",
    "result = []\n",
    "\n",
    "for word in words:\n",
    "    if word not in 'aeiou':\n",
    "        result.append(word)\n",
    "print(''.join(result))"
   ]
  },
  {
   "cell_type": "code",
   "execution_count": 34,
   "id": "9d4e2f83",
   "metadata": {},
   "outputs": [
    {
     "name": "stdout",
     "output_type": "stream",
     "text": [
      "{'apple': '사과', 'banana': '바나나', 'melon': '멜론', 'grape': '포도'}\n"
     ]
    }
   ],
   "source": [
    "my_dict = {'apple':'사과', 'banana':'바나나', 'melon':'멜론'}\n",
    "my_dict.update(grape = '포도')\n",
    "print(my_dict)"
   ]
  },
  {
   "cell_type": "code",
   "execution_count": 37,
   "id": "2b8c8b98",
   "metadata": {},
   "outputs": [
    {
     "name": "stdout",
     "output_type": "stream",
     "text": [
      "사과\n",
      "사과\n",
      "None\n"
     ]
    },
    {
     "ename": "KeyError",
     "evalue": "'pineapple'",
     "output_type": "error",
     "traceback": [
      "\u001b[1;31m---------------------------------------------------------------------------\u001b[0m",
      "\u001b[1;31mKeyError\u001b[0m                                  Traceback (most recent call last)",
      "Cell \u001b[1;32mIn[37], line 5\u001b[0m\n\u001b[0;32m      3\u001b[0m \u001b[38;5;28mprint\u001b[39m(my_dict[\u001b[38;5;124m'\u001b[39m\u001b[38;5;124mapple\u001b[39m\u001b[38;5;124m'\u001b[39m])\n\u001b[0;32m      4\u001b[0m \u001b[38;5;28mprint\u001b[39m(my_dict\u001b[38;5;241m.\u001b[39mget(\u001b[38;5;124m'\u001b[39m\u001b[38;5;124mpineapple\u001b[39m\u001b[38;5;124m'\u001b[39m)) \u001b[38;5;66;03m# 여기서는 None이 출력\u001b[39;00m\n\u001b[1;32m----> 5\u001b[0m \u001b[38;5;28mprint\u001b[39m(\u001b[43mmy_dict\u001b[49m\u001b[43m[\u001b[49m\u001b[38;5;124;43m'\u001b[39;49m\u001b[38;5;124;43mpineapple\u001b[39;49m\u001b[38;5;124;43m'\u001b[39;49m\u001b[43m]\u001b[49m) \u001b[38;5;66;03m# 에러 key가 없음\u001b[39;00m\n",
      "\u001b[1;31mKeyError\u001b[0m: 'pineapple'"
     ]
    }
   ],
   "source": [
    "my_dict = {'apple':'사과', 'banana':'바나나', 'melon':'멜론'}\n",
    "print(my_dict.get('apple'))\n",
    "print(my_dict['apple'])\n",
    "print(my_dict.get('pineapple')) # 여기서는 None이 출력\n",
    "print(my_dict['pineapple']) # 에러 key가 없음"
   ]
  },
  {
   "cell_type": "code",
   "execution_count": 6,
   "id": "17f8f780",
   "metadata": {},
   "outputs": [
    {
     "name": "stdout",
     "output_type": "stream",
     "text": [
      "{1, 2, 3}\n",
      "[1, 2, 3]\n"
     ]
    }
   ],
   "source": [
    "list_a = [1, 2, 3, 1, 1, 2]\n",
    "set_list = set(list_a)\n",
    "print(set_list)\n",
    "print(list(set_list))\n",
    "# list_b = []\n",
    "# for i in set_list:\n",
    "#     list_b.append(i)\n",
    "# print(list_b)"
   ]
  },
  {
   "cell_type": "code",
   "execution_count": 7,
   "id": "d38e7cca",
   "metadata": {},
   "outputs": [
    {
     "name": "stdout",
     "output_type": "stream",
     "text": [
      "3\n",
      "3\n"
     ]
    }
   ],
   "source": [
    "menus = ['라면', '떡볶이', '김밥']\n",
    "counts = 0\n",
    "for menu in menus:\n",
    "    counts += 1\n",
    "print(len(menus))\n",
    "print(counts)"
   ]
  },
  {
   "cell_type": "code",
   "execution_count": 8,
   "id": "decb7e93",
   "metadata": {},
   "outputs": [
    {
     "name": "stdout",
     "output_type": "stream",
     "text": [
      "3\n"
     ]
    }
   ],
   "source": [
    "menus = ['김치찜', '라면', '김밥', '김치찜', '오징어순대', '매운탕', '김치찜']\n",
    "counts = 0\n",
    "for menu in menus:\n",
    "    if menu == '김치찜':\n",
    "        counts += 1\n",
    "print(counts)"
   ]
  },
  {
   "cell_type": "code",
   "execution_count": 15,
   "id": "ab347b61",
   "metadata": {},
   "outputs": [
    {
     "name": "stdout",
     "output_type": "stream",
     "text": [
      "896\n"
     ]
    }
   ],
   "source": [
    "numbers = [5, 4, 11 ,35, 436, 64, 896, 432]\n",
    "numbers.sort()\n",
    "print(numbers[-1])"
   ]
  },
  {
   "cell_type": "code",
   "execution_count": 16,
   "id": "b24acfbe",
   "metadata": {},
   "outputs": [
    {
     "name": "stdout",
     "output_type": "stream",
     "text": [
      "896\n"
     ]
    }
   ],
   "source": [
    "numbers = [5, 4, 11 ,35, 436, 64, 896, 432]\n",
    "max_number = numbers[0]\n",
    "for number in numbers:\n",
    "    if max_number < number:\n",
    "        max_number = number\n",
    "print(max_number)"
   ]
  },
  {
   "cell_type": "code",
   "execution_count": 17,
   "id": "92808626",
   "metadata": {},
   "outputs": [
    {
     "name": "stdout",
     "output_type": "stream",
     "text": [
      "4\n"
     ]
    }
   ],
   "source": [
    "numbers = [5, 4, 11 ,35, 436, 64, 896, 432]\n",
    "min_number = numbers[0]\n",
    "for number in numbers:\n",
    "    if min_number > number:\n",
    "        min_number = number\n",
    "print(min_number)"
   ]
  },
  {
   "cell_type": "code",
   "execution_count": 19,
   "id": "1ca32837",
   "metadata": {},
   "outputs": [
    {
     "name": "stdout",
     "output_type": "stream",
     "text": [
      "apple\n",
      "ale\n"
     ]
    }
   ],
   "source": [
    "word = input()\n",
    "result = ''\n",
    "for char in word:\n",
    "    if char != 'p':\n",
    "        result += char\n",
    "print(result)"
   ]
  },
  {
   "cell_type": "code",
   "execution_count": 22,
   "id": "d6788d7a",
   "metadata": {},
   "outputs": [
    {
     "name": "stdout",
     "output_type": "stream",
     "text": [
      "apple\n",
      "elppa\n"
     ]
    }
   ],
   "source": [
    "word = input()\n",
    "reversed_word = ''\n",
    "for index in range(len(word)-1,-1,-1):\n",
    "    reversed_word += word[index]\n",
    "    \n",
    "print(reversed_word)"
   ]
  },
  {
   "cell_type": "code",
   "execution_count": 24,
   "id": "ceb089be",
   "metadata": {},
   "outputs": [
    {
     "name": "stdout",
     "output_type": "stream",
     "text": [
      "bananan\n",
      "nananab\n"
     ]
    }
   ],
   "source": [
    "word = input()\n",
    "reversed_word = ''\n",
    "for char in word:\n",
    "    reversed_word = char + reversed_word\n",
    "    \n",
    "print(reversed_word)"
   ]
  },
  {
   "cell_type": "code",
   "execution_count": 25,
   "id": "36a4c0ca",
   "metadata": {},
   "outputs": [
    {
     "name": "stdout",
     "output_type": "stream",
     "text": [
      "5\n",
      "Y\n"
     ]
    }
   ],
   "source": [
    "number = int(input()) #정수 입력 받기\n",
    "is_prime = 'Y'\n",
    "for i in range(2, number):\n",
    "    if number % i == 0:\n",
    "        is_prime = 'N'\n",
    "        break\n",
    "        \n",
    "print(is_prime)\n",
    "# 소수 판별하기"
   ]
  },
  {
   "cell_type": "code",
   "execution_count": 28,
   "id": "c6d387e3",
   "metadata": {},
   "outputs": [
    {
     "name": "stdout",
     "output_type": "stream",
     "text": [
      "36는 소수가 아니다\n",
      "59는 소수다\n",
      "41는 소수다\n",
      "33는 소수가 아니다\n",
      "17는 소수다\n",
      "69는 소수가 아니다\n",
      "85는 소수가 아니다\n"
     ]
    }
   ],
   "source": [
    "numbers = [36, 59, 41, 33, 17, 69, 85]\n",
    "\n",
    "for number in numbers:\n",
    "    for i in range(2, number):\n",
    "        if number % i == 0:\n",
    "            print(f'{number}는 소수가 아니다')\n",
    "            break\n",
    "    else:\n",
    "        print(f'{number}는 소수다')"
   ]
  },
  {
   "cell_type": "code",
   "execution_count": null,
   "id": "55776333",
   "metadata": {},
   "outputs": [],
   "source": []
  },
  {
   "cell_type": "code",
   "execution_count": null,
   "id": "616428be",
   "metadata": {},
   "outputs": [],
   "source": []
  },
  {
   "cell_type": "code",
   "execution_count": null,
   "id": "5f6f1cbc",
   "metadata": {},
   "outputs": [],
   "source": []
  },
  {
   "cell_type": "code",
   "execution_count": null,
   "id": "b36a8177",
   "metadata": {},
   "outputs": [],
   "source": []
  }
 ],
 "metadata": {
  "kernelspec": {
   "display_name": "Python 3 (ipykernel)",
   "language": "python",
   "name": "python3"
  },
  "language_info": {
   "codemirror_mode": {
    "name": "ipython",
    "version": 3
   },
   "file_extension": ".py",
   "mimetype": "text/x-python",
   "name": "python",
   "nbconvert_exporter": "python",
   "pygments_lexer": "ipython3",
   "version": "3.9.13"
  }
 },
 "nbformat": 4,
 "nbformat_minor": 5
}
