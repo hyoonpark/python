{
 "cells": [
  {
   "cell_type": "code",
   "execution_count": 6,
   "id": "7928ed69",
   "metadata": {},
   "outputs": [
    {
     "name": "stdout",
     "output_type": "stream",
     "text": [
      "{'aet': ['eat', 'tea', 'ate'], 'ant': ['tan', 'nat'], 'abt': ['bat']}\n"
     ]
    }
   ],
   "source": [
    "words = ['eat', 'tea', 'tan', 'ate', 'nat', 'bat']\n",
    "result = {}\n",
    "for chars in words:\n",
    "    char = ''.join(sorted(chars))\n",
    "    result[char] = result.get(char, []) + [chars]\n",
    "print(result)"
   ]
  },
  {
   "cell_type": "code",
   "execution_count": 50,
   "id": "94445860",
   "metadata": {},
   "outputs": [
    {
     "name": "stdout",
     "output_type": "stream",
     "text": [
      "['염자바', '임온실', '최이썬']\n",
      "{'김싸피': 'solving', '이코딩': 'solving', '오디비': 'sleeping', '조실습': 'solving', '박장고': 'sleeping', 'key': 'solving'}\n"
     ]
    }
   ],
   "source": [
    "test_status = {\n",
    "    '김싸피': 'solving',\n",
    "   \t'이코딩': 'solving',\n",
    "   \t'최이썬': 'cheating',\n",
    "   \t'오디비': 'sleeping',\n",
    "   \t'임온실': 'cheating',\n",
    "   \t'조실습': 'solving',\n",
    "   \t'박장고': 'sleeping',\n",
    "   \t'염자바': 'cheating'\n",
    "}\n",
    "c_list = []\n",
    "for status in test_status.items():\n",
    "    if 'cheating' in status:\n",
    "        c_list.append(status[0])\n",
    "\n",
    "c_list.sort()\n",
    "print(c_list)\n",
    "\n",
    "for del_key in c_list:\n",
    "    test_status.pop(del_key)\n",
    "\n",
    "for key in test_status.copy().keys():\n",
    "    if test_status[key] == 'sleeping':\n",
    "        test_status.update(key = 'solving')\n",
    "print(test_status)"
   ]
  },
  {
   "cell_type": "code",
   "execution_count": 54,
   "id": "de0a4ce5",
   "metadata": {},
   "outputs": [
    {
     "name": "stdout",
     "output_type": "stream",
     "text": [
      "@#~I NeVEr DrEamEd AbouT SuCCeSs, i woRkEd foR iT.!\n",
      "I never dreamed about success i worked for it\n"
     ]
    }
   ],
   "source": [
    "import string\n",
    "\n",
    "sent = input()\n",
    "for char in string.punctuation:\n",
    "    sent = sent.replace(char, '')\n",
    "\n",
    "sent = sent.lower()\n",
    "sent = sent.capitalize()\n",
    "\n",
    "print(sent)"
   ]
  },
  {
   "cell_type": "code",
   "execution_count": 8,
   "id": "f7496e6e",
   "metadata": {},
   "outputs": [
    {
     "name": "stdout",
     "output_type": "stream",
     "text": [
      "[('spade', 6), ('diamond', 'Q')]\n"
     ]
    }
   ],
   "source": [
    "import random\n",
    "\n",
    "def making_card_list() -> list:\n",
    "\tcard_list = []\n",
    "\n",
    "\tfor shape in [\"spade\", \"heart\", \"diamond\", \"clover\"]:\n",
    "\n",
    "\t\tfor number in [\"A\", 2, 3, 4, 5, 6, 7, 8, 9, 10, \"J\", \"Q\", \"K\"]:\n",
    "\n",
    "\t\t\tcard_list.append((shape, number))\n",
    "\n",
    "\treturn card_list\n",
    "\n",
    "\n",
    "trump_card_list = making_card_list()\n",
    "# print(trump_card_list)\n",
    "\n",
    "sampleList = random.sample(trump_card_list, 2)\n",
    "print(sampleList)"
   ]
  },
  {
   "cell_type": "code",
   "execution_count": 19,
   "id": "78221933",
   "metadata": {},
   "outputs": [
    {
     "data": {
      "text/plain": [
       "25"
      ]
     },
     "execution_count": 19,
     "metadata": {},
     "output_type": "execute_result"
    }
   ],
   "source": [
    "num_list = [4, 4, 7, 8, 10, 4]\n",
    "\n",
    "def sum_of_repeat_number(nums):\n",
    "    counts = 0\n",
    "    for num in nums:\n",
    "        if nums.count(num) > 1:\n",
    "            continue\n",
    "        else:\n",
    "            counts += num\n",
    "            \n",
    "    return counts\n",
    "\n",
    "sum_of_repeat_number(num_list)"
   ]
  },
  {
   "cell_type": "code",
   "execution_count": null,
   "id": "24838c21",
   "metadata": {},
   "outputs": [],
   "source": [
    "words_dict = {'proper' : '적절한',\n",
    "'possible' : '가능한',\n",
    "'moral' : '도덕적인',\n",
    "'patient' : '참을성 있는',\n",
    "'balance' : '균형',\n",
    "'perfect' : '완벽한',\n",
    "'logical' : '논리적인',\n",
    "'legal' : '합법적인',\n",
    "'relevant' : '관련 있는',\n",
    "'responsible' : '책임감 있는',\n",
    "'regular' : '규칙적인'}\n",
    "\n",
    "# dict.update(키=값)"
   ]
  },
  {
   "cell_type": "code",
   "execution_count": null,
   "id": "38281ea6",
   "metadata": {},
   "outputs": [],
   "source": []
  }
 ],
 "metadata": {
  "kernelspec": {
   "display_name": "Python 3 (ipykernel)",
   "language": "python",
   "name": "python3"
  },
  "language_info": {
   "codemirror_mode": {
    "name": "ipython",
    "version": 3
   },
   "file_extension": ".py",
   "mimetype": "text/x-python",
   "name": "python",
   "nbconvert_exporter": "python",
   "pygments_lexer": "ipython3",
   "version": "3.9.13"
  }
 },
 "nbformat": 4,
 "nbformat_minor": 5
}
