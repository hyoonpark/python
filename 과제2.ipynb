{
 "cells": [
  {
   "cell_type": "code",
   "execution_count": 2,
   "id": "f8049e8e",
   "metadata": {},
   "outputs": [
    {
     "name": "stdout",
     "output_type": "stream",
     "text": [
      "(0.633, -2.633)\n"
     ]
    }
   ],
   "source": [
    "a = 3\n",
    "b = 6\n",
    "c = - 5\n",
    "s1 = (-b + (b**2-4*a*c)**0.5) / (2*a)\n",
    "s2 = (-b - (b**2-4*a*c)**0.5) / (2*a)\n",
    "s1 = round(s1,3)\n",
    "s2 = round(s2,3)\n",
    "\n",
    "print((s1, s2))"
   ]
  },
  {
   "cell_type": "code",
   "execution_count": 9,
   "id": "93d77304",
   "metadata": {},
   "outputs": [
    {
     "name": "stdout",
     "output_type": "stream",
     "text": [
      "<p>취업 준비생에게 SW 역량 향상 교육 및 다양한 취업지원 서비스를 제공하여 취업에 성공하도록 돕는 프로그램입니다.</p>\n",
      "취업 준비생에게 SW 역량 향상 교육 및 다양한 취업지원 서비스를 제공하여 취업에 성공하도록 돕는 프로그램입니다.\n"
     ]
    }
   ],
   "source": [
    "# 입력 예시\n",
    "# <p>취업 준비생에게 SW 역량 향상 교육 및 다양한 취업지원 서비스를 제공하여 취업에 성공하도록 돕는 프로그램입니다.</p>\n",
    "\n",
    "# 출력 예시\n",
    "# 취업 준비생에게 SW 역량 향상 교육 및 다양한 취업지원 서비스를 제공하여 취업에 성공하도록 돕는 프로그램입니다.\n",
    "\n",
    "a = input()\n",
    "print(a[3:-4])"
   ]
  },
  {
   "cell_type": "code",
   "execution_count": 17,
   "id": "a2c28c18",
   "metadata": {},
   "outputs": [
    {
     "name": "stdout",
     "output_type": "stream",
     "text": [
      "문자열을 입력하세요. : emotion nail safe\n",
      "['emotion', 'nail', 'safe']\n",
      "Fail\n"
     ]
    }
   ],
   "source": [
    "str_lst = input('문자열을 입력하세요. : ')\n",
    "word = []\n",
    "for i in str_lst.split(sep=' '):\n",
    "    word.append(i)\n",
    "print(word)\n",
    "if word[0][-1] == word[1][0] and word[1][-1] == word[2][0]:\n",
    "    print('Pass')\n",
    "else:\n",
    "    print('Fail')"
   ]
  },
  {
   "cell_type": "code",
   "execution_count": 26,
   "id": "b102de5a",
   "metadata": {},
   "outputs": [
    {
     "name": "stdout",
     "output_type": "stream",
     "text": [
      "스테이크   50,000\n",
      "+ VAT     7,500\n",
      " 총계 \\    57,500\n"
     ]
    }
   ],
   "source": [
    "# 출력 결과 예시\n",
    "# 스테이크   50,000\n",
    "# + VAT     7,500\n",
    "# 총계 ₩    57,500\n",
    "steak = 50000\n",
    "vat = int(steak * 0.15)\n",
    "\n",
    "print(f'스테이크   {steak:,}\\n+ VAT     {vat:,}\\n 총계 \\    {steak + vat:,}')"
   ]
  },
  {
   "cell_type": "code",
   "execution_count": 57,
   "id": "ae8a4b9b",
   "metadata": {},
   "outputs": [
    {
     "name": "stdout",
     "output_type": "stream",
     "text": [
      "soccer contest\n",
      "10\n",
      "[('Python Homework', 3), ('Assay', 4), ('Vacation', 100), ('soccer contest', 10)]\n"
     ]
    }
   ],
   "source": [
    "todo = [(\"Python Homework\", 3), (\"Assay\", 4), (\"Vacation\", 100)]\n",
    "a = input()\n",
    "b = int(input())\n",
    "plus = [(f'{a}', b)]\n",
    "todo.extend(plus)\n",
    "\n",
    "print(todo)"
   ]
  },
  {
   "cell_type": "code",
   "execution_count": 38,
   "id": "39015a3e",
   "metadata": {},
   "outputs": [
    {
     "name": "stdout",
     "output_type": "stream",
     "text": [
      "14\n",
      "['라떼마키야또', '아메리카노', '아이스라떼', '아이스아메리카노', '아이스카라멜마키야또', '에스프레소', '카라멜마키야또', '카푸치노', '핫초코']\n"
     ]
    }
   ],
   "source": [
    "orders = '아이스아메리카노,카라멜마키야또,에스프레소,아메리카노,아메리카노,아이스라떼,핫초코,아이스아메리카노,아메리카노,아이스카라멜마키야또,아이스라떼,라떼마키야또,카푸치노,라떼마키야또'\n",
    "lst1 = orders.split(',') #리스트화\n",
    "total = len(lst1)\n",
    "lst2 = list(set(lst1))\n",
    "lst2.sort()\n",
    "\n",
    "print(total)\n",
    "print(lst2)"
   ]
  },
  {
   "cell_type": "code",
   "execution_count": 49,
   "id": "740b87ab",
   "metadata": {},
   "outputs": [
    {
     "name": "stdout",
     "output_type": "stream",
     "text": [
      "5\n",
      "아이스아메리카노: 2\n",
      "카라멜마키야또: 1\n",
      "에스프레소: 1\n",
      "아메리카노: 3\n",
      "아이스라떼: 2\n",
      "핫초코: 1\n",
      "아이스카라멜마키야또: 1\n",
      "카푸치노: 1\n",
      "라떼마키야또: 2\n"
     ]
    }
   ],
   "source": [
    "orders = '아이스아메리카노,카라멜마키야또,에스프레소,아메리카노,아메리카노,아이스라떼,핫초코,아이스아메리카노,아메리카노,아이스카라멜마키야또,아이스라떼,라떼마키야또,카푸치노,라떼마키야또'\n",
    "lst1 = orders.split(',')\n",
    "lst2 = []\n",
    "for word in lst1:\n",
    "    if '아이스' in word:\n",
    "        lst2.append(word)\n",
    "print(len(lst2))\n",
    "print(f'아이스아메리카노:', lst1.count('아이스아메리카노'))\n",
    "print(f'카라멜마키야또:', lst1.count('카라멜마키야또'))\n",
    "print(f'에스프레소:', lst1.count('에스프레소'))\n",
    "print(f'아메리카노:', lst1.count('아메리카노'))\n",
    "print(f'아이스라떼:', lst1.count('아이스라떼'))\n",
    "print(f'핫초코:', lst1.count('핫초코'))\n",
    "print(f'아이스카라멜마키야또:', lst1.count('아이스카라멜마키야또'))\n",
    "print(f'카푸치노:', lst1.count('카푸치노'))\n",
    "print(f'라떼마키야또:', lst1.count('라떼마키야또'))"
   ]
  }
 ],
 "metadata": {
  "kernelspec": {
   "display_name": "Python 3 (ipykernel)",
   "language": "python",
   "name": "python3"
  },
  "language_info": {
   "codemirror_mode": {
    "name": "ipython",
    "version": 3
   },
   "file_extension": ".py",
   "mimetype": "text/x-python",
   "name": "python",
   "nbconvert_exporter": "python",
   "pygments_lexer": "ipython3",
   "version": "3.9.13"
  }
 },
 "nbformat": 4,
 "nbformat_minor": 5
}
