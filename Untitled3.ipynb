{
 "cells": [
  {
   "cell_type": "code",
   "execution_count": 1,
   "id": "219315ab",
   "metadata": {},
   "outputs": [
    {
     "name": "stdout",
     "output_type": "stream",
     "text": [
      "32768\n"
     ]
    }
   ],
   "source": [
    "a = 8\n",
    "a = a ** 5\n",
    "\n",
    "print(a)"
   ]
  },
  {
   "cell_type": "code",
   "execution_count": 6,
   "id": "4722698d",
   "metadata": {},
   "outputs": [
    {
     "name": "stdout",
     "output_type": "stream",
     "text": [
      "1234\n",
      " 567\n",
      "  89\n",
      "   0\n"
     ]
    }
   ],
   "source": [
    "print('1234\\n 567\\n  89\\n   0')"
   ]
  },
  {
   "cell_type": "code",
   "execution_count": 9,
   "id": "8181b7c7",
   "metadata": {},
   "outputs": [
    {
     "ename": "SyntaxError",
     "evalue": "invalid syntax (2259880134.py, line 1)",
     "output_type": "error",
     "traceback": [
      "\u001b[1;36m  Cell \u001b[1;32mIn[9], line 1\u001b[1;36m\u001b[0m\n\u001b[1;33m    print(158\"%\",\"입니다\")\u001b[0m\n\u001b[1;37m             ^\u001b[0m\n\u001b[1;31mSyntaxError\u001b[0m\u001b[1;31m:\u001b[0m invalid syntax\n"
     ]
    }
   ],
   "source": [
    "print(158\"%\",\"입니다\")"
   ]
  },
  {
   "cell_type": "code",
   "execution_count": 10,
   "id": "62c3aeb7",
   "metadata": {},
   "outputs": [
    {
     "data": {
      "text/plain": [
       "'5'"
      ]
     },
     "execution_count": 10,
     "metadata": {},
     "output_type": "execute_result"
    }
   ],
   "source": [
    "str(5)"
   ]
  },
  {
   "cell_type": "code",
   "execution_count": 12,
   "id": "1a67ebe4",
   "metadata": {},
   "outputs": [
    {
     "name": "stdout",
     "output_type": "stream",
     "text": [
      "one,two\n"
     ]
    }
   ],
   "source": [
    "a = 'one'\n",
    "b = 'two'\n",
    "\n",
    "print(f'{a},{b}')"
   ]
  },
  {
   "cell_type": "code",
   "execution_count": 13,
   "id": "9648d9e3",
   "metadata": {},
   "outputs": [
    {
     "name": "stdout",
     "output_type": "stream",
     "text": [
      "158% 입니다\n"
     ]
    }
   ],
   "source": [
    "a = '%'\n",
    "b = '입니다'\n",
    "\n",
    "print(f'158{a} {b}')"
   ]
  },
  {
   "cell_type": "code",
   "execution_count": 16,
   "id": "043cafef",
   "metadata": {},
   "outputs": [
    {
     "name": "stdout",
     "output_type": "stream",
     "text": [
      "['a', 'b', 'c', 'd', 'f', 'e']\n"
     ]
    }
   ],
   "source": [
    "family = ['a', 'b', 'c', 'd', 'f']\n",
    "\n",
    "family.append('e')\n",
    "print(family)"
   ]
  },
  {
   "cell_type": "code",
   "execution_count": 18,
   "id": "af96e1b3",
   "metadata": {},
   "outputs": [
    {
     "data": {
      "text/plain": [
       "1"
      ]
     },
     "execution_count": 18,
     "metadata": {},
     "output_type": "execute_result"
    }
   ],
   "source": [
    "'apple'.find('p')"
   ]
  },
  {
   "cell_type": "code",
   "execution_count": 23,
   "id": "b06a8a5c",
   "metadata": {},
   "outputs": [
    {
     "name": "stdout",
     "output_type": "stream",
     "text": [
      "['hi', 's', 't', 'h']\n"
     ]
    }
   ],
   "source": [
    "cafe = ['s', 't', 'h']\n",
    "\n",
    "cafe.insert(0, 'hi')\n",
    "print(cafe)"
   ]
  },
  {
   "cell_type": "code",
   "execution_count": 24,
   "id": "002a591d",
   "metadata": {},
   "outputs": [
    {
     "name": "stdout",
     "output_type": "stream",
     "text": [
      "['J', 'D', 'T']\n"
     ]
    }
   ],
   "source": [
    "classroom = ['T', 'D', 'J']\n",
    "classroom.reverse()\n",
    "\n",
    "print(classroom)"
   ]
  },
  {
   "cell_type": "code",
   "execution_count": 25,
   "id": "c38bb039",
   "metadata": {},
   "outputs": [
    {
     "name": "stdout",
     "output_type": "stream",
     "text": [
      "a의 값은 10입니다\n"
     ]
    }
   ],
   "source": [
    "print(f'a의 값은 10입니다')"
   ]
  },
  {
   "cell_type": "code",
   "execution_count": 27,
   "id": "245c8c8c",
   "metadata": {},
   "outputs": [
    {
     "name": "stdout",
     "output_type": "stream",
     "text": [
      "bbq의 값은 5입니다\n"
     ]
    }
   ],
   "source": [
    "print(f'bbq의 값은 5입니다')"
   ]
  },
  {
   "cell_type": "code",
   "execution_count": 28,
   "id": "2c75c3ab",
   "metadata": {},
   "outputs": [
    {
     "name": "stdout",
     "output_type": "stream",
     "text": [
      "50\n",
      "50\n"
     ]
    }
   ],
   "source": [
    "a = 40\n",
    "b = 60\n",
    "c = 10\n",
    "g = a + c\n",
    "h = b - c\n",
    "\n",
    "print(g)\n",
    "print(h)"
   ]
  },
  {
   "cell_type": "code",
   "execution_count": 33,
   "id": "6c92b498",
   "metadata": {},
   "outputs": [
    {
     "name": "stdout",
     "output_type": "stream",
     "text": [
      "10 * 3 = 30\n",
      "10 / 3 = 3\n"
     ]
    }
   ],
   "source": [
    "a = 10\n",
    "b = 3\n",
    "\n",
    "print(f'{a} * {b} =', a * b)\n",
    "print(f'{a} / {b} =', a // b)"
   ]
  },
  {
   "cell_type": "code",
   "execution_count": 35,
   "id": "2ffbbe92",
   "metadata": {},
   "outputs": [
    {
     "name": "stdout",
     "output_type": "stream",
     "text": [
      "15\n"
     ]
    }
   ],
   "source": [
    "a = 3\n",
    "b = 2\n",
    "c = 6\n",
    "d = 2\n",
    "e = (a + b) * (c // d)\n",
    "\n",
    "print(e)"
   ]
  },
  {
   "cell_type": "code",
   "execution_count": 38,
   "id": "3b9f7215",
   "metadata": {},
   "outputs": [
    {
     "name": "stdout",
     "output_type": "stream",
     "text": [
      "33\n"
     ]
    }
   ],
   "source": [
    "a = 3\n",
    "b = 3\n",
    "d = 3\n",
    "c = 8\n",
    "e = (a * b) + (c * d)\n",
    "\n",
    "print(e)"
   ]
  },
  {
   "cell_type": "code",
   "execution_count": 43,
   "id": "3113fd15",
   "metadata": {},
   "outputs": [
    {
     "name": "stdout",
     "output_type": "stream",
     "text": [
      "a+b=9\n",
      "a-b=5\n"
     ]
    }
   ],
   "source": [
    "a = 7\n",
    "b = 2\n",
    "\n",
    "print(f'a+b={a + b}')\n",
    "print(f'a-b={a - b}')"
   ]
  },
  {
   "cell_type": "code",
   "execution_count": 48,
   "id": "bc385e52",
   "metadata": {},
   "outputs": [
    {
     "name": "stdout",
     "output_type": "stream",
     "text": [
      "8*4=32\n",
      "8/4=2\n"
     ]
    }
   ],
   "source": [
    "k = 8\n",
    "g = 4\n",
    "\n",
    "print(f'{k}*{g}={k * g}')\n",
    "print(f'{k}/{g}={k // g}')"
   ]
  },
  {
   "cell_type": "code",
   "execution_count": 50,
   "id": "39c06808",
   "metadata": {},
   "outputs": [
    {
     "name": "stdout",
     "output_type": "stream",
     "text": [
      "6\n"
     ]
    }
   ],
   "source": [
    "a = 3\n",
    "b = 5\n",
    "c = 3\n",
    "d = 4\n",
    "e = ((a + b) * c) // d\n",
    "\n",
    "print(e)"
   ]
  },
  {
   "cell_type": "code",
   "execution_count": 54,
   "id": "fa25c5ee",
   "metadata": {},
   "outputs": [
    {
     "name": "stdout",
     "output_type": "stream",
     "text": [
      "8\n",
      "a값은 : 5\n",
      "마지막 a값은 : 7\n"
     ]
    }
   ],
   "source": [
    "a = 8\n",
    "print(a)\n",
    "a = a + 1\n",
    "a += 1\n",
    "a = 3\n",
    "a = a + 1\n",
    "a += 1\n",
    "print(\"a값은 :\", a)\n",
    "a = a + 1\n",
    "a += 1\n",
    "print(\"마지막 a값은 :\", a)"
   ]
  },
  {
   "cell_type": "code",
   "execution_count": 61,
   "id": "c4db258c",
   "metadata": {},
   "outputs": [
    {
     "name": "stdout",
     "output_type": "stream",
     "text": [
      "5\n",
      "멋지군요!! 칭찬합니다.\n"
     ]
    }
   ],
   "source": [
    "a = int(input())\n",
    "print(\"멋지군요!! 칭찬합니다.\")"
   ]
  },
  {
   "cell_type": "code",
   "execution_count": 66,
   "id": "dd510dab",
   "metadata": {},
   "outputs": [
    {
     "name": "stdout",
     "output_type": "stream",
     "text": [
      "3\n",
      "3 입력하셨군요\n"
     ]
    }
   ],
   "source": [
    "a = int(input())\n",
    "print(f'{a} 입력하셨군요')"
   ]
  },
  {
   "cell_type": "code",
   "execution_count": 68,
   "id": "7ab65b26",
   "metadata": {},
   "outputs": [
    {
     "name": "stdout",
     "output_type": "stream",
     "text": [
      "3\n",
      "3 3 3\n"
     ]
    }
   ],
   "source": [
    "a = int(input())\n",
    "print(a, a, a)"
   ]
  },
  {
   "cell_type": "code",
   "execution_count": 71,
   "id": "960c3995",
   "metadata": {},
   "outputs": [
    {
     "name": "stdout",
     "output_type": "stream",
     "text": [
      "WWW.\"MIN\"CODING.CO.KR\n"
     ]
    }
   ],
   "source": [
    "print('WWW.\"MIN\"CODING.CO.KR')"
   ]
  },
  {
   "cell_type": "code",
   "execution_count": 72,
   "id": "9e26338f",
   "metadata": {},
   "outputs": [
    {
     "name": "stdout",
     "output_type": "stream",
     "text": [
      "5 5\n",
      "같습니다\n"
     ]
    }
   ],
   "source": [
    "a, b = map(int, input().split())\n",
    "\n",
    "if a == b:\n",
    "    print('같습니다')\n",
    "else:\n",
    "    print('다릅니다')"
   ]
  },
  {
   "cell_type": "code",
   "execution_count": 74,
   "id": "2600ea8f",
   "metadata": {},
   "outputs": [
    {
     "name": "stdout",
     "output_type": "stream",
     "text": [
      "3 6 9\n",
      "첫번째 숫자는 3 입니다.\n",
      "두번째 숫자는 6 입니다.\n",
      "세번째 숫자는 9 입니다.\n"
     ]
    }
   ],
   "source": [
    "a, b, c = map(int, input().split())\n",
    "\n",
    "print(f'첫번째 숫자는 {a} 입니다.')\n",
    "print(f'두번째 숫자는 {b} 입니다.')\n",
    "print(f'세번째 숫자는 {c} 입니다.')"
   ]
  },
  {
   "cell_type": "code",
   "execution_count": 77,
   "id": "d90d786b",
   "metadata": {},
   "outputs": [
    {
     "name": "stdout",
     "output_type": "stream",
     "text": [
      "2 4 5 10\n",
      "a + b = 6\n",
      "c + d = 15\n",
      "ALL SUM = 21\n"
     ]
    }
   ],
   "source": [
    "a, b, c, d = map(int, input().split())\n",
    "l = [a, b, c, d]\n",
    "\n",
    "print(f'a + b = {a + b}')\n",
    "print(f'c + d = {c + d}')\n",
    "print(f'ALL SUM = {sum(l)}')"
   ]
  },
  {
   "cell_type": "code",
   "execution_count": 78,
   "id": "22b07e02",
   "metadata": {},
   "outputs": [
    {
     "name": "stdout",
     "output_type": "stream",
     "text": [
      "30 10\n",
      "두 숫자의 차는 20 입니다.\n"
     ]
    }
   ],
   "source": [
    "a, b = map(int, input().split())\n",
    "print(f'두 숫자의 차는 {a - b} 입니다.')"
   ]
  },
  {
   "cell_type": "code",
   "execution_count": 90,
   "id": "fbb2b57d",
   "metadata": {},
   "outputs": [
    {
     "name": "stdout",
     "output_type": "stream",
     "text": [
      "3 5 9\n",
      "333\n",
      "555\n",
      "999\n"
     ]
    }
   ],
   "source": [
    "a, b, c = map(int, input().split())\n",
    "print(f'{a}{a}{a}')\n",
    "print(f'{b}{b}{b}')\n",
    "print(f'{c}{c}{c}')"
   ]
  },
  {
   "cell_type": "code",
   "execution_count": 91,
   "id": "bb03cdff",
   "metadata": {},
   "outputs": [
    {
     "name": "stdout",
     "output_type": "stream",
     "text": [
      "5 2\n",
      "5+2=7\n",
      "5*2=10\n",
      "5/2=2\n"
     ]
    }
   ],
   "source": [
    "a, b = map(int, input().split())\n",
    "print(f'{a}+{b}={a + b}')\n",
    "print(f'{a}*{b}={a * b}')\n",
    "print(f'{a}/{b}={a // b}')"
   ]
  },
  {
   "cell_type": "code",
   "execution_count": 92,
   "id": "1662518a",
   "metadata": {},
   "outputs": [
    {
     "name": "stdout",
     "output_type": "stream",
     "text": [
      "4 3\n",
      "a가b보다크다\n"
     ]
    }
   ],
   "source": [
    "a, b = map(int, input().split())\n",
    "if a > b:\n",
    "    print('a가b보다크다')\n",
    "else:\n",
    "    print('b가a보다같거나크다')"
   ]
  },
  {
   "cell_type": "code",
   "execution_count": 93,
   "id": "aa34086c",
   "metadata": {},
   "outputs": [
    {
     "name": "stdout",
     "output_type": "stream",
     "text": [
      "3 5\n",
      "5555\n"
     ]
    }
   ],
   "source": [
    "a, b = map(int, input().split())\n",
    "print(f'{max(a, b)}{max(a, b)}{max(a, b)}{max(a, b)}')"
   ]
  },
  {
   "cell_type": "code",
   "execution_count": 95,
   "id": "f4c4cadb",
   "metadata": {},
   "outputs": [
    {
     "name": "stdout",
     "output_type": "stream",
     "text": [
      "5\n",
      "5 입력함\n",
      "a++을 수행하면 6이 됩니다\n"
     ]
    }
   ],
   "source": [
    "a = int(input())\n",
    "print(f'{a} 입력함')\n",
    "a += 1\n",
    "print(f'a++을 수행하면 {a}이 됩니다')"
   ]
  },
  {
   "cell_type": "code",
   "execution_count": 98,
   "id": "8f48a90d",
   "metadata": {},
   "outputs": [
    {
     "name": "stdout",
     "output_type": "stream",
     "text": [
      "5\n",
      "6\n"
     ]
    }
   ],
   "source": [
    "a = int(input())\n",
    "if a > 3:\n",
    "    print(a + 1)\n",
    "else:\n",
    "    print(a - 1)"
   ]
  },
  {
   "cell_type": "code",
   "execution_count": 104,
   "id": "f428cb40",
   "metadata": {},
   "outputs": [
    {
     "name": "stdout",
     "output_type": "stream",
     "text": [
      "1\n",
      "###\n",
      "###\n",
      "###\n"
     ]
    }
   ],
   "source": [
    "num = int(input())\n",
    "if num > 0:\n",
    "    print('###\\n###\\n###')\n",
    "elif num < 0:\n",
    "    print('$$$\\n$$$')\n",
    "else:\n",
    "    print()"
   ]
  },
  {
   "cell_type": "code",
   "execution_count": 105,
   "id": "4812b591",
   "metadata": {},
   "outputs": [
    {
     "name": "stdout",
     "output_type": "stream",
     "text": [
      "1 2 3\n",
      "행운의 수\n"
     ]
    }
   ],
   "source": [
    "a, b, c = map(int, input().split())\n",
    "d = a + b + c\n",
    "e = a * b * c\n",
    "\n",
    "if d >= e:\n",
    "    print('행운의 수')\n",
    "else:\n",
    "    print('소소한 수')"
   ]
  },
  {
   "cell_type": "code",
   "execution_count": 106,
   "id": "fa3951f4",
   "metadata": {},
   "outputs": [
    {
     "name": "stdout",
     "output_type": "stream",
     "text": [
      "1 1 1\n",
      "만세\n"
     ]
    }
   ],
   "source": [
    "a, b, c = map(int, input().split())\n",
    "if a == b and b == c:\n",
    "    print('만세')\n",
    "else:\n",
    "    print()"
   ]
  },
  {
   "cell_type": "code",
   "execution_count": 108,
   "id": "74934c7c",
   "metadata": {},
   "outputs": [
    {
     "name": "stdout",
     "output_type": "stream",
     "text": [
      "9 4 5 3\n",
      "b1이 가장 크다\n"
     ]
    }
   ],
   "source": [
    "b1, b2, b3, b4 = map(int, input().split())\n",
    "if b1 >= b2 and b1 >= b3 and b1 >= b4:\n",
    "    print('b1이 가장 크다')\n",
    "else:\n",
    "    print()"
   ]
  },
  {
   "cell_type": "code",
   "execution_count": 111,
   "id": "a44bff0a",
   "metadata": {},
   "outputs": [
    {
     "name": "stdout",
     "output_type": "stream",
     "text": [
      "3 4 5 6\n",
      "3<4\n",
      "4==4\n",
      "5>4\n",
      "6>4\n"
     ]
    }
   ],
   "source": [
    "a, b, c, d = map(int, input().split())\n",
    "i = [a, b, c, d]\n",
    "j = sum(i) // len(i)\n",
    "\n",
    "if a == j:\n",
    "    print(f'{a}=={j}')\n",
    "elif a < j:\n",
    "    print(f'{a}<{j}')\n",
    "else:\n",
    "    print(f'{a}>{j}')\n",
    "    \n",
    "if b == j:\n",
    "    print(f'{b}=={j}')\n",
    "elif b < j:\n",
    "    print(f'{b}<{j}')\n",
    "else:\n",
    "    print(f'{b}>{j}')\n",
    "    \n",
    "if c == j:\n",
    "    print(f'{c}=={j}')\n",
    "elif c < j:\n",
    "    print(f'{c}<{j}')\n",
    "else:\n",
    "    print(f'{c}>{j}')\n",
    "    \n",
    "if d == j:\n",
    "    print(f'{d}=={j}')\n",
    "elif d < j:\n",
    "    print(f'{d}<{j}')\n",
    "else:\n",
    "    print(f'{d}>{j}')"
   ]
  },
  {
   "cell_type": "code",
   "execution_count": 112,
   "id": "86da4785",
   "metadata": {},
   "outputs": [
    {
     "name": "stdout",
     "output_type": "stream",
     "text": [
      "7 4\n",
      "가깝다\n"
     ]
    }
   ],
   "source": [
    "A, B = map(int, input().split())\n",
    "\n",
    "if A - B > 5:\n",
    "    print('멀다')\n",
    "else:\n",
    "    print('가깝다')"
   ]
  },
  {
   "cell_type": "code",
   "execution_count": null,
   "id": "774afc86",
   "metadata": {},
   "outputs": [],
   "source": []
  },
  {
   "cell_type": "code",
   "execution_count": null,
   "id": "46b75f1f",
   "metadata": {},
   "outputs": [],
   "source": []
  },
  {
   "cell_type": "code",
   "execution_count": null,
   "id": "2531551b",
   "metadata": {},
   "outputs": [],
   "source": []
  },
  {
   "cell_type": "code",
   "execution_count": null,
   "id": "cf36b80c",
   "metadata": {},
   "outputs": [],
   "source": []
  }
 ],
 "metadata": {
  "kernelspec": {
   "display_name": "Python 3 (ipykernel)",
   "language": "python",
   "name": "python3"
  },
  "language_info": {
   "codemirror_mode": {
    "name": "ipython",
    "version": 3
   },
   "file_extension": ".py",
   "mimetype": "text/x-python",
   "name": "python",
   "nbconvert_exporter": "python",
   "pygments_lexer": "ipython3",
   "version": "3.9.13"
  }
 },
 "nbformat": 4,
 "nbformat_minor": 5
}
