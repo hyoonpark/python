{
 "cells": [
  {
   "cell_type": "code",
   "execution_count": 1,
   "id": "d18baf60",
   "metadata": {},
   "outputs": [
    {
     "name": "stdout",
     "output_type": "stream",
     "text": [
      "10\n",
      "WOW\n"
     ]
    }
   ],
   "source": [
    "a = int(input())\n",
    "\n",
    "if a >= 10:\n",
    "    print('WOW')\n",
    "else:\n",
    "    print('OMG')"
   ]
  },
  {
   "cell_type": "code",
   "execution_count": 4,
   "id": "d1b39dab",
   "metadata": {},
   "outputs": [
    {
     "name": "stdout",
     "output_type": "stream",
     "text": [
      "3 5\n",
      "큰수는 5\n"
     ]
    }
   ],
   "source": [
    "i, k = map(int, input().split())\n",
    "  \n",
    "if i > k:\n",
    "    print(f'큰수는 {i}')\n",
    "elif i == k:\n",
    "    print('같은숫자')\n",
    "else:\n",
    "    print(f'큰수는 {k}')"
   ]
  },
  {
   "cell_type": "code",
   "execution_count": 6,
   "id": "62fbd005",
   "metadata": {},
   "outputs": [
    {
     "name": "stdout",
     "output_type": "stream",
     "text": [
      "5\n",
      "만세\n"
     ]
    }
   ],
   "source": [
    "a = int(input())\n",
    "if a == 5 or a == 10:\n",
    "    print('만세')\n",
    "else:\n",
    "    print('재도전')"
   ]
  },
  {
   "cell_type": "code",
   "execution_count": 7,
   "id": "e96985ce",
   "metadata": {},
   "outputs": [
    {
     "name": "stdout",
     "output_type": "stream",
     "text": [
      "7 9\n",
      "인증됨\n"
     ]
    }
   ],
   "source": [
    "a, b = map(int, input().split())\n",
    "\n",
    "if a == 7 and b == 9:\n",
    "    print('인증됨')\n",
    "else:\n",
    "    print('재시도')"
   ]
  },
  {
   "cell_type": "code",
   "execution_count": 9,
   "id": "1df36a34",
   "metadata": {},
   "outputs": [
    {
     "name": "stdout",
     "output_type": "stream",
     "text": [
      "3\n",
      "4\n",
      "5\n",
      "6\n",
      "7\n",
      "8\n",
      "9\n",
      "10\n"
     ]
    }
   ],
   "source": [
    "for i in range(3, 11):\n",
    "    print(i)"
   ]
  },
  {
   "cell_type": "code",
   "execution_count": 10,
   "id": "edcf6b6b",
   "metadata": {},
   "outputs": [
    {
     "name": "stdout",
     "output_type": "stream",
     "text": [
      "1 5\n",
      "1\n",
      "2\n",
      "3\n",
      "4\n",
      "5\n"
     ]
    }
   ],
   "source": [
    "a, b = map(int, input().split())\n",
    "for i in range(a, b + 1):\n",
    "    print(i)"
   ]
  },
  {
   "cell_type": "code",
   "execution_count": 11,
   "id": "22a8e395",
   "metadata": {},
   "outputs": [
    {
     "name": "stdout",
     "output_type": "stream",
     "text": [
      "PIZZAHOT\n",
      "PIZZAHOT\n",
      "PIZZAHOT\n",
      "PIZZAHOT\n",
      "PIZZAHOT\n",
      "PIZZAHOT\n",
      "PIZZAHOT\n",
      "PIZZAHOT\n",
      "PIZZAHOT\n",
      "PIZZAHOT\n",
      "PIZZAHOT\n",
      "PIZZAHOT\n",
      "PIZZAHOT\n",
      "PIZZAHOT\n",
      "PIZZAHOT\n",
      "PIZZAHOT\n",
      "PIZZAHOT\n",
      "PIZZAHOT\n",
      "PIZZAHOT\n",
      "PIZZAHOT\n",
      "PIZZAHOT\n",
      "PIZZAHOT\n",
      "PIZZAHOT\n",
      "PIZZAHOT\n",
      "PIZZAHOT\n"
     ]
    }
   ],
   "source": [
    "for i in range(25):\n",
    "    print('PIZZAHOT')"
   ]
  },
  {
   "cell_type": "code",
   "execution_count": 12,
   "id": "92879d7b",
   "metadata": {},
   "outputs": [
    {
     "name": "stdout",
     "output_type": "stream",
     "text": [
      "3\n",
      "##\n",
      "##\n",
      "##\n"
     ]
    }
   ],
   "source": [
    "a = int(input())\n",
    "for i in range(a):\n",
    "    print('##')"
   ]
  },
  {
   "cell_type": "code",
   "execution_count": 25,
   "id": "fd2c97ec",
   "metadata": {},
   "outputs": [
    {
     "name": "stdout",
     "output_type": "stream",
     "text": [
      "10 9 8 7 6 5 4 3 2 1 "
     ]
    }
   ],
   "source": [
    "i = [1, 2, 3, 4, 5, 6, 7, 8, 9, 10]\n",
    "for j in reversed(i):\n",
    "    print(j, end=' ')"
   ]
  },
  {
   "cell_type": "code",
   "execution_count": 26,
   "id": "3a91088d",
   "metadata": {},
   "outputs": [
    {
     "name": "stdout",
     "output_type": "stream",
     "text": [
      "100\n",
      "Magic\n"
     ]
    }
   ],
   "source": [
    "a = int(input())\n",
    "a = (a * 2 + 20) // 5\n",
    "\n",
    "if a != 100:\n",
    "    print('Magic')\n",
    "else:\n",
    "    print()"
   ]
  },
  {
   "cell_type": "code",
   "execution_count": 29,
   "id": "802571bc",
   "metadata": {},
   "outputs": [
    {
     "name": "stdout",
     "output_type": "stream",
     "text": [
      "3 5\n",
      "345"
     ]
    }
   ],
   "source": [
    "a, b = map(int, input().split())\n",
    "\n",
    "for i in range(a, b + 1):\n",
    "    print(i, end=\"\")"
   ]
  },
  {
   "cell_type": "code",
   "execution_count": 32,
   "id": "a831013d",
   "metadata": {},
   "outputs": [
    {
     "name": "stdout",
     "output_type": "stream",
     "text": [
      "5\n",
      "0\n",
      "1\n",
      "2\n",
      "3\n",
      "4\n",
      "5\n"
     ]
    }
   ],
   "source": [
    "a = int(input())\n",
    "\n",
    "for i in range(0, a + 1):\n",
    "    print(i)"
   ]
  },
  {
   "cell_type": "code",
   "execution_count": 34,
   "id": "10e6d1c3",
   "metadata": {},
   "outputs": [
    {
     "name": "stdout",
     "output_type": "stream",
     "text": [
      "1 2 3\n",
      "0\n"
     ]
    }
   ],
   "source": [
    "a, b, c = map(int, input().split())\n",
    "\n",
    "if a + b + c > 10:\n",
    "    print(a * b * c)\n",
    "else:\n",
    "    print(0)"
   ]
  },
  {
   "cell_type": "code",
   "execution_count": 36,
   "id": "0bae41d1",
   "metadata": {},
   "outputs": [
    {
     "name": "stdout",
     "output_type": "stream",
     "text": [
      "-5 -4 -3 -2 -1 0 1 2 3 4 5 "
     ]
    }
   ],
   "source": [
    "for i in range(-5, 6):\n",
    "    print(i, end=\" \")"
   ]
  },
  {
   "cell_type": "code",
   "execution_count": 37,
   "id": "c4744274",
   "metadata": {},
   "outputs": [
    {
     "name": "stdout",
     "output_type": "stream",
     "text": [
      "##########"
     ]
    }
   ],
   "source": [
    "for i in range(10):\n",
    "    print('#', end=\"\")"
   ]
  },
  {
   "cell_type": "code",
   "execution_count": null,
   "id": "9b4a3900",
   "metadata": {},
   "outputs": [],
   "source": []
  }
 ],
 "metadata": {
  "kernelspec": {
   "display_name": "Python 3 (ipykernel)",
   "language": "python",
   "name": "python3"
  },
  "language_info": {
   "codemirror_mode": {
    "name": "ipython",
    "version": 3
   },
   "file_extension": ".py",
   "mimetype": "text/x-python",
   "name": "python",
   "nbconvert_exporter": "python",
   "pygments_lexer": "ipython3",
   "version": "3.9.13"
  }
 },
 "nbformat": 4,
 "nbformat_minor": 5
}
